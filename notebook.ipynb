{
 "cells": [
  {
   "cell_type": "markdown",
   "metadata": {
    "_cell_guid": "a50b13d8-a475-4e30-8c1d-6f07a8390f99",
    "_uuid": "fdb66f39f5b063257788acf51b413df7b3b6043f"
   },
   "source": [
    "# 1. Introduction\n",
    "\n",
    "We are given a dataset with 79 explanatory variables describing various aspects of resdidential homes in Ames, Iowa. Our goal is to predict the final price of each home.\n"
   ]
  },
  {
   "cell_type": "markdown",
   "metadata": {},
   "source": [
    "# 2. Importing and exploring data"
   ]
  },
  {
   "cell_type": "markdown",
   "metadata": {},
   "source": [
    "### 2.1 Loading required libraries"
   ]
  },
  {
   "cell_type": "code",
   "execution_count": 98,
   "metadata": {
    "_cell_guid": "fbb06be6-6c42-4e90-82f3-9abe13d7e874",
    "_uuid": "a344837ade6ebcb7ed521c11ce86cae07e86deae",
    "collapsed": true
   },
   "outputs": [],
   "source": [
    "#import libraries\n",
    "\n",
    "import pandas as pd\n",
    "import numpy as np\n",
    "import matplotlib.pyplot as plt\n",
    "import seaborn as sns\n",
    "from scipy import stats\n",
    "from scipy.stats import norm, skew #for some statistics\n",
    "\n",
    "\n",
    "color = sns.color_palette()\n",
    "sns.set_style('darkgrid')\n",
    "\n",
    "\n",
    "import warnings\n",
    "def ignore_warn(*args, **kwargs):\n",
    "    pass\n",
    "warnings.warn = ignore_warn #ignore annoying warning from sklearn and seaborn"
   ]
  },
  {
   "cell_type": "code",
   "execution_count": 99,
   "metadata": {
    "_cell_guid": "08e48a25-2076-402c-bfdc-2102cceeb909",
    "_uuid": "fa7b17ce214b87b1784752771320b4c17aa5a340",
    "collapsed": true
   },
   "outputs": [],
   "source": [
    "# loading data\n",
    "train = pd.read_csv(\"train.csv\")\n",
    "test = pd.read_csv(\"test.csv\")"
   ]
  },
  {
   "cell_type": "markdown",
   "metadata": {},
   "source": [
    "### 2.2 Data structure"
   ]
  },
  {
   "cell_type": "code",
   "execution_count": 100,
   "metadata": {
    "_cell_guid": "caf28b1a-b8da-4778-98c7-c277554e629a",
    "_uuid": "9944cf52ea649a10ccbbfff1105a1a95b12e4020"
   },
   "outputs": [
    {
     "data": {
      "text/plain": [
       "(1460, 81)"
      ]
     },
     "execution_count": 100,
     "metadata": {},
     "output_type": "execute_result"
    }
   ],
   "source": [
    "train.shape  # 1460 observations in train set\n"
   ]
  },
  {
   "cell_type": "code",
   "execution_count": 101,
   "metadata": {},
   "outputs": [
    {
     "data": {
      "text/plain": [
       "(1459, 80)"
      ]
     },
     "execution_count": 101,
     "metadata": {},
     "output_type": "execute_result"
    }
   ],
   "source": [
    "test.shape # 1459 observations in test set"
   ]
  },
  {
   "cell_type": "code",
   "execution_count": 102,
   "metadata": {},
   "outputs": [
    {
     "data": {
      "text/html": [
       "<div>\n",
       "<style scoped>\n",
       "    .dataframe tbody tr th:only-of-type {\n",
       "        vertical-align: middle;\n",
       "    }\n",
       "\n",
       "    .dataframe tbody tr th {\n",
       "        vertical-align: top;\n",
       "    }\n",
       "\n",
       "    .dataframe thead th {\n",
       "        text-align: right;\n",
       "    }\n",
       "</style>\n",
       "<table border=\"1\" class=\"dataframe\">\n",
       "  <thead>\n",
       "    <tr style=\"text-align: right;\">\n",
       "      <th></th>\n",
       "      <th>Id</th>\n",
       "      <th>MSSubClass</th>\n",
       "      <th>MSZoning</th>\n",
       "      <th>LotFrontage</th>\n",
       "      <th>LotArea</th>\n",
       "      <th>Street</th>\n",
       "      <th>Alley</th>\n",
       "      <th>LotShape</th>\n",
       "      <th>LandContour</th>\n",
       "      <th>Utilities</th>\n",
       "      <th>...</th>\n",
       "      <th>PoolArea</th>\n",
       "      <th>PoolQC</th>\n",
       "      <th>Fence</th>\n",
       "      <th>MiscFeature</th>\n",
       "      <th>MiscVal</th>\n",
       "      <th>MoSold</th>\n",
       "      <th>YrSold</th>\n",
       "      <th>SaleType</th>\n",
       "      <th>SaleCondition</th>\n",
       "      <th>SalePrice</th>\n",
       "    </tr>\n",
       "  </thead>\n",
       "  <tbody>\n",
       "    <tr>\n",
       "      <th>0</th>\n",
       "      <td>1</td>\n",
       "      <td>60</td>\n",
       "      <td>RL</td>\n",
       "      <td>65.0</td>\n",
       "      <td>8450</td>\n",
       "      <td>Pave</td>\n",
       "      <td>NaN</td>\n",
       "      <td>Reg</td>\n",
       "      <td>Lvl</td>\n",
       "      <td>AllPub</td>\n",
       "      <td>...</td>\n",
       "      <td>0</td>\n",
       "      <td>NaN</td>\n",
       "      <td>NaN</td>\n",
       "      <td>NaN</td>\n",
       "      <td>0</td>\n",
       "      <td>2</td>\n",
       "      <td>2008</td>\n",
       "      <td>WD</td>\n",
       "      <td>Normal</td>\n",
       "      <td>208500</td>\n",
       "    </tr>\n",
       "    <tr>\n",
       "      <th>1</th>\n",
       "      <td>2</td>\n",
       "      <td>20</td>\n",
       "      <td>RL</td>\n",
       "      <td>80.0</td>\n",
       "      <td>9600</td>\n",
       "      <td>Pave</td>\n",
       "      <td>NaN</td>\n",
       "      <td>Reg</td>\n",
       "      <td>Lvl</td>\n",
       "      <td>AllPub</td>\n",
       "      <td>...</td>\n",
       "      <td>0</td>\n",
       "      <td>NaN</td>\n",
       "      <td>NaN</td>\n",
       "      <td>NaN</td>\n",
       "      <td>0</td>\n",
       "      <td>5</td>\n",
       "      <td>2007</td>\n",
       "      <td>WD</td>\n",
       "      <td>Normal</td>\n",
       "      <td>181500</td>\n",
       "    </tr>\n",
       "    <tr>\n",
       "      <th>2</th>\n",
       "      <td>3</td>\n",
       "      <td>60</td>\n",
       "      <td>RL</td>\n",
       "      <td>68.0</td>\n",
       "      <td>11250</td>\n",
       "      <td>Pave</td>\n",
       "      <td>NaN</td>\n",
       "      <td>IR1</td>\n",
       "      <td>Lvl</td>\n",
       "      <td>AllPub</td>\n",
       "      <td>...</td>\n",
       "      <td>0</td>\n",
       "      <td>NaN</td>\n",
       "      <td>NaN</td>\n",
       "      <td>NaN</td>\n",
       "      <td>0</td>\n",
       "      <td>9</td>\n",
       "      <td>2008</td>\n",
       "      <td>WD</td>\n",
       "      <td>Normal</td>\n",
       "      <td>223500</td>\n",
       "    </tr>\n",
       "    <tr>\n",
       "      <th>3</th>\n",
       "      <td>4</td>\n",
       "      <td>70</td>\n",
       "      <td>RL</td>\n",
       "      <td>60.0</td>\n",
       "      <td>9550</td>\n",
       "      <td>Pave</td>\n",
       "      <td>NaN</td>\n",
       "      <td>IR1</td>\n",
       "      <td>Lvl</td>\n",
       "      <td>AllPub</td>\n",
       "      <td>...</td>\n",
       "      <td>0</td>\n",
       "      <td>NaN</td>\n",
       "      <td>NaN</td>\n",
       "      <td>NaN</td>\n",
       "      <td>0</td>\n",
       "      <td>2</td>\n",
       "      <td>2006</td>\n",
       "      <td>WD</td>\n",
       "      <td>Abnorml</td>\n",
       "      <td>140000</td>\n",
       "    </tr>\n",
       "    <tr>\n",
       "      <th>4</th>\n",
       "      <td>5</td>\n",
       "      <td>60</td>\n",
       "      <td>RL</td>\n",
       "      <td>84.0</td>\n",
       "      <td>14260</td>\n",
       "      <td>Pave</td>\n",
       "      <td>NaN</td>\n",
       "      <td>IR1</td>\n",
       "      <td>Lvl</td>\n",
       "      <td>AllPub</td>\n",
       "      <td>...</td>\n",
       "      <td>0</td>\n",
       "      <td>NaN</td>\n",
       "      <td>NaN</td>\n",
       "      <td>NaN</td>\n",
       "      <td>0</td>\n",
       "      <td>12</td>\n",
       "      <td>2008</td>\n",
       "      <td>WD</td>\n",
       "      <td>Normal</td>\n",
       "      <td>250000</td>\n",
       "    </tr>\n",
       "  </tbody>\n",
       "</table>\n",
       "<p>5 rows × 81 columns</p>\n",
       "</div>"
      ],
      "text/plain": [
       "   Id  MSSubClass MSZoning  LotFrontage  LotArea Street Alley LotShape  \\\n",
       "0   1          60       RL         65.0     8450   Pave   NaN      Reg   \n",
       "1   2          20       RL         80.0     9600   Pave   NaN      Reg   \n",
       "2   3          60       RL         68.0    11250   Pave   NaN      IR1   \n",
       "3   4          70       RL         60.0     9550   Pave   NaN      IR1   \n",
       "4   5          60       RL         84.0    14260   Pave   NaN      IR1   \n",
       "\n",
       "  LandContour Utilities    ...     PoolArea PoolQC Fence MiscFeature MiscVal  \\\n",
       "0         Lvl    AllPub    ...            0    NaN   NaN         NaN       0   \n",
       "1         Lvl    AllPub    ...            0    NaN   NaN         NaN       0   \n",
       "2         Lvl    AllPub    ...            0    NaN   NaN         NaN       0   \n",
       "3         Lvl    AllPub    ...            0    NaN   NaN         NaN       0   \n",
       "4         Lvl    AllPub    ...            0    NaN   NaN         NaN       0   \n",
       "\n",
       "  MoSold YrSold  SaleType  SaleCondition  SalePrice  \n",
       "0      2   2008        WD         Normal     208500  \n",
       "1      5   2007        WD         Normal     181500  \n",
       "2      9   2008        WD         Normal     223500  \n",
       "3      2   2006        WD        Abnorml     140000  \n",
       "4     12   2008        WD         Normal     250000  \n",
       "\n",
       "[5 rows x 81 columns]"
      ]
     },
     "execution_count": 102,
     "metadata": {},
     "output_type": "execute_result"
    }
   ],
   "source": [
    "train.head()"
   ]
  },
  {
   "cell_type": "code",
   "execution_count": 103,
   "metadata": {
    "collapsed": true
   },
   "outputs": [],
   "source": [
    "#Saving \"Id\" columns for later use\n",
    "train_Id_index=train.Id\n",
    "test_Id_index=test.Id"
   ]
  },
  {
   "cell_type": "code",
   "execution_count": 104,
   "metadata": {
    "collapsed": true
   },
   "outputs": [],
   "source": [
    "train=train.drop(['Id'],axis=1) \n",
    "test=test.drop(['Id'],axis=1)"
   ]
  },
  {
   "cell_type": "markdown",
   "metadata": {},
   "source": [
    "# 3. Investigating some of the most important variables"
   ]
  },
  {
   "cell_type": "markdown",
   "metadata": {},
   "source": [
    "### 3.1 Sale Price    \n"
   ]
  },
  {
   "cell_type": "code",
   "execution_count": 105,
   "metadata": {},
   "outputs": [
    {
     "data": {
      "text/plain": [
       "count      1460.000000\n",
       "mean     180921.195890\n",
       "std       79442.502883\n",
       "min       34900.000000\n",
       "25%      129975.000000\n",
       "50%      163000.000000\n",
       "75%      214000.000000\n",
       "max      755000.000000\n",
       "Name: SalePrice, dtype: float64"
      ]
     },
     "execution_count": 105,
     "metadata": {},
     "output_type": "execute_result"
    }
   ],
   "source": [
    "train.SalePrice.describe()"
   ]
  },
  {
   "cell_type": "code",
   "execution_count": 106,
   "metadata": {},
   "outputs": [
    {
     "name": "stdout",
     "output_type": "stream",
     "text": [
      "\n",
      " mu = 180921.20 and sigma = 79415.29\n",
      "\n"
     ]
    },
    {
     "data": {
      "image/png": "[encoded data removed]",
      "text/plain": [
       "<Figure size 576x396 with 1 Axes>"
      ]
     },
     "metadata": {},
     "output_type": "display_data"
    },
    {
     "data": {
      "image/png": "[encoded data removed]",
      "text/plain": [
       "<Figure size 576x396 with 1 Axes>"
      ]
     },
     "metadata": {},
     "output_type": "display_data"
    }
   ],
   "source": [
    "sns.distplot(train['SalePrice'] , fit=norm);\n",
    "\n",
    "# Get the fitted parameters used by the function\n",
    "(mu, sigma) = norm.fit(train['SalePrice'])\n",
    "print( '\\n mu = {:.2f} and sigma = {:.2f}\\n'.format(mu, sigma))\n",
    "\n",
    "#Now plot the distribution\n",
    "plt.legend(['Normal dist. ($\\mu=$ {:.2f} and $\\sigma=$ {:.2f} )'.format(mu, sigma)],\n",
    "            loc='best')\n",
    "plt.ylabel('Frequency')\n",
    "plt.title('SalePrice distribution')\n",
    "\n",
    "#Get also the QQ-plot\n",
    "fig = plt.figure()\n",
    "res = stats.probplot(train['SalePrice'], plot=plt)\n",
    "plt.show()"
   ]
  },
  {
   "cell_type": "markdown",
   "metadata": {},
   "source": [
    "Sale price column is very right skewed. It makes sense as few people can afford expensive houses.\n",
    "I am going to tranform this variable and make it more normally distributted."
   ]
  },
  {
   "cell_type": "code",
   "execution_count": 107,
   "metadata": {},
   "outputs": [
    {
     "name": "stdout",
     "output_type": "stream",
     "text": [
      "\n",
      " mu = 12.02 and sigma = 0.40\n",
      "\n"
     ]
    },
    {
     "data": {
      "image/png": "[encoded data removed]",
      "text/plain": [
       "<Figure size 576x396 with 1 Axes>"
      ]
     },
     "metadata": {},
     "output_type": "display_data"
    },
    {
     "data": {
      "image/png": "[encoded data removed]",
      "text/plain": [
       "<Figure size 576x396 with 1 Axes>"
      ]
     },
     "metadata": {},
     "output_type": "display_data"
    }
   ],
   "source": [
    "#We use the numpy fuction log1p which  applies log(1+x) to all elements of the column\n",
    "train[\"SalePrice\"] = np.log1p(train[\"SalePrice\"])\n",
    "\n",
    "#Check the new distribution \n",
    "sns.distplot(train['SalePrice'] , fit=norm);\n",
    "\n",
    "# Get the fitted parameters used by the function\n",
    "(mu, sigma) = norm.fit(train['SalePrice'])\n",
    "print( '\\n mu = {:.2f} and sigma = {:.2f}\\n'.format(mu, sigma))\n",
    "\n",
    "#Now plot the distribution\n",
    "plt.legend(['Normal dist. ($\\mu=$ {:.2f} and $\\sigma=$ {:.2f} )'.format(mu, sigma)],\n",
    "            loc='best')\n",
    "plt.ylabel('Frequency')\n",
    "plt.title('SalePrice distribution')\n",
    "\n",
    "#Get also the QQ-plot\n",
    "fig = plt.figure()\n",
    "res = stats.probplot(train['SalePrice'], plot=plt)\n",
    "plt.show()"
   ]
  },
  {
   "cell_type": "markdown",
   "metadata": {},
   "source": [
    "The skew seems now corrected and the data appears more normally distributed."
   ]
  },
  {
   "cell_type": "markdown",
   "metadata": {},
   "source": [
    "To start analyzing data, I need to concatenate train and test set."
   ]
  },
  {
   "cell_type": "code",
   "execution_count": 108,
   "metadata": {},
   "outputs": [
    {
     "name": "stdout",
     "output_type": "stream",
     "text": [
      "dataframe size is : (2919, 80)\n"
     ]
    }
   ],
   "source": [
    "ntrain = train.shape[0]\n",
    "ntest = test.shape[0]\n",
    "#y_train=train.SalePrice.values\n",
    "df = pd.concat((train, test)).reset_index(drop=True)\n",
    "#df.drop(['SalePrice'], axis=1, inplace=True)\n",
    "print(\"dataframe size is : {}\".format(df.shape))"
   ]
  },
  {
   "cell_type": "markdown",
   "metadata": {},
   "source": [
    "### 3.2 corelation with sale price\n",
    "\n",
    "Here I am going to find out which variables have a strong corelation with the target variable, sale price.\n",
    "First step is to find numeric columns."
   ]
  },
  {
   "cell_type": "code",
   "execution_count": 109,
   "metadata": {
    "collapsed": true
   },
   "outputs": [],
   "source": [
    "numeric_columns=df.select_dtypes(include=[np.number]).columns.tolist() # All numeric columns"
   ]
  },
  {
   "cell_type": "code",
   "execution_count": 110,
   "metadata": {
    "collapsed": true
   },
   "outputs": [],
   "source": [
    "corr=df[numeric_columns].corr()\n",
    "corr=corr[abs(corr['SalePrice'])>.5] # All correlation above 0.5\n",
    "\n",
    "## Extracting rows name with correlation above 0.5 \n",
    "row_index=[]\n",
    "for index, row in corr.iterrows():\n",
    "    row_index.append(index)\n"
   ]
  },
  {
   "cell_type": "code",
   "execution_count": 111,
   "metadata": {},
   "outputs": [
    {
     "data": {
      "text/html": [
       "<div>\n",
       "<style scoped>\n",
       "    .dataframe tbody tr th:only-of-type {\n",
       "        vertical-align: middle;\n",
       "    }\n",
       "\n",
       "    .dataframe tbody tr th {\n",
       "        vertical-align: top;\n",
       "    }\n",
       "\n",
       "    .dataframe thead th {\n",
       "        text-align: right;\n",
       "    }\n",
       "</style>\n",
       "<table border=\"1\" class=\"dataframe\">\n",
       "  <thead>\n",
       "    <tr style=\"text-align: right;\">\n",
       "      <th></th>\n",
       "      <th>1stFlrSF</th>\n",
       "      <th>FullBath</th>\n",
       "      <th>GarageArea</th>\n",
       "      <th>GarageCars</th>\n",
       "      <th>GarageYrBlt</th>\n",
       "      <th>GrLivArea</th>\n",
       "      <th>OverallQual</th>\n",
       "      <th>SalePrice</th>\n",
       "      <th>TotRmsAbvGrd</th>\n",
       "      <th>TotalBsmtSF</th>\n",
       "      <th>YearBuilt</th>\n",
       "      <th>YearRemodAdd</th>\n",
       "    </tr>\n",
       "  </thead>\n",
       "  <tbody>\n",
       "    <tr>\n",
       "      <th>1stFlrSF</th>\n",
       "      <td>1.000000</td>\n",
       "      <td>0.373077</td>\n",
       "      <td>0.492011</td>\n",
       "      <td>0.440540</td>\n",
       "      <td>0.260450</td>\n",
       "      <td>0.562538</td>\n",
       "      <td>0.479152</td>\n",
       "      <td>0.596981</td>\n",
       "      <td>0.391782</td>\n",
       "      <td>0.801670</td>\n",
       "      <td>0.310814</td>\n",
       "      <td>0.242245</td>\n",
       "    </tr>\n",
       "    <tr>\n",
       "      <th>FullBath</th>\n",
       "      <td>0.373077</td>\n",
       "      <td>1.000000</td>\n",
       "      <td>0.408487</td>\n",
       "      <td>0.479988</td>\n",
       "      <td>0.495688</td>\n",
       "      <td>0.630286</td>\n",
       "      <td>0.528483</td>\n",
       "      <td>0.594771</td>\n",
       "      <td>0.527337</td>\n",
       "      <td>0.327762</td>\n",
       "      <td>0.471169</td>\n",
       "      <td>0.457980</td>\n",
       "    </tr>\n",
       "    <tr>\n",
       "      <th>GarageArea</th>\n",
       "      <td>0.492011</td>\n",
       "      <td>0.408487</td>\n",
       "      <td>1.000000</td>\n",
       "      <td>0.889700</td>\n",
       "      <td>0.555836</td>\n",
       "      <td>0.485469</td>\n",
       "      <td>0.565122</td>\n",
       "      <td>0.650888</td>\n",
       "      <td>0.328687</td>\n",
       "      <td>0.486067</td>\n",
       "      <td>0.480735</td>\n",
       "      <td>0.376765</td>\n",
       "    </tr>\n",
       "    <tr>\n",
       "      <th>GarageCars</th>\n",
       "      <td>0.440540</td>\n",
       "      <td>0.479988</td>\n",
       "      <td>0.889700</td>\n",
       "      <td>1.000000</td>\n",
       "      <td>0.587712</td>\n",
       "      <td>0.489933</td>\n",
       "      <td>0.600744</td>\n",
       "      <td>0.680625</td>\n",
       "      <td>0.358053</td>\n",
       "      <td>0.437997</td>\n",
       "      <td>0.538074</td>\n",
       "      <td>0.426022</td>\n",
       "    </tr>\n",
       "    <tr>\n",
       "      <th>GarageYrBlt</th>\n",
       "      <td>0.260450</td>\n",
       "      <td>0.495688</td>\n",
       "      <td>0.555836</td>\n",
       "      <td>0.587712</td>\n",
       "      <td>1.000000</td>\n",
       "      <td>0.273411</td>\n",
       "      <td>0.571803</td>\n",
       "      <td>0.541073</td>\n",
       "      <td>0.162684</td>\n",
       "      <td>0.348408</td>\n",
       "      <td>0.834812</td>\n",
       "      <td>0.652365</td>\n",
       "    </tr>\n",
       "    <tr>\n",
       "      <th>GrLivArea</th>\n",
       "      <td>0.562538</td>\n",
       "      <td>0.630286</td>\n",
       "      <td>0.485469</td>\n",
       "      <td>0.489933</td>\n",
       "      <td>0.273411</td>\n",
       "      <td>1.000000</td>\n",
       "      <td>0.575126</td>\n",
       "      <td>0.700927</td>\n",
       "      <td>0.808354</td>\n",
       "      <td>0.445276</td>\n",
       "      <td>0.242666</td>\n",
       "      <td>0.316972</td>\n",
       "    </tr>\n",
       "    <tr>\n",
       "      <th>OverallQual</th>\n",
       "      <td>0.479152</td>\n",
       "      <td>0.528483</td>\n",
       "      <td>0.565122</td>\n",
       "      <td>0.600744</td>\n",
       "      <td>0.571803</td>\n",
       "      <td>0.575126</td>\n",
       "      <td>1.000000</td>\n",
       "      <td>0.817185</td>\n",
       "      <td>0.389761</td>\n",
       "      <td>0.549294</td>\n",
       "      <td>0.597554</td>\n",
       "      <td>0.571532</td>\n",
       "    </tr>\n",
       "    <tr>\n",
       "      <th>SalePrice</th>\n",
       "      <td>0.596981</td>\n",
       "      <td>0.594771</td>\n",
       "      <td>0.650888</td>\n",
       "      <td>0.680625</td>\n",
       "      <td>0.541073</td>\n",
       "      <td>0.700927</td>\n",
       "      <td>0.817185</td>\n",
       "      <td>1.000000</td>\n",
       "      <td>0.534422</td>\n",
       "      <td>0.612134</td>\n",
       "      <td>0.586570</td>\n",
       "      <td>0.565608</td>\n",
       "    </tr>\n",
       "    <tr>\n",
       "      <th>TotRmsAbvGrd</th>\n",
       "      <td>0.391782</td>\n",
       "      <td>0.527337</td>\n",
       "      <td>0.328687</td>\n",
       "      <td>0.358053</td>\n",
       "      <td>0.162684</td>\n",
       "      <td>0.808354</td>\n",
       "      <td>0.389761</td>\n",
       "      <td>0.534422</td>\n",
       "      <td>1.000000</td>\n",
       "      <td>0.282126</td>\n",
       "      <td>0.114280</td>\n",
       "      <td>0.198250</td>\n",
       "    </tr>\n",
       "    <tr>\n",
       "      <th>TotalBsmtSF</th>\n",
       "      <td>0.801670</td>\n",
       "      <td>0.327762</td>\n",
       "      <td>0.486067</td>\n",
       "      <td>0.437997</td>\n",
       "      <td>0.348408</td>\n",
       "      <td>0.445276</td>\n",
       "      <td>0.549294</td>\n",
       "      <td>0.612134</td>\n",
       "      <td>0.282126</td>\n",
       "      <td>1.000000</td>\n",
       "      <td>0.408515</td>\n",
       "      <td>0.298107</td>\n",
       "    </tr>\n",
       "    <tr>\n",
       "      <th>YearBuilt</th>\n",
       "      <td>0.310814</td>\n",
       "      <td>0.471169</td>\n",
       "      <td>0.480735</td>\n",
       "      <td>0.538074</td>\n",
       "      <td>0.834812</td>\n",
       "      <td>0.242666</td>\n",
       "      <td>0.597554</td>\n",
       "      <td>0.586570</td>\n",
       "      <td>0.114280</td>\n",
       "      <td>0.408515</td>\n",
       "      <td>1.000000</td>\n",
       "      <td>0.612235</td>\n",
       "    </tr>\n",
       "    <tr>\n",
       "      <th>YearRemodAdd</th>\n",
       "      <td>0.242245</td>\n",
       "      <td>0.457980</td>\n",
       "      <td>0.376765</td>\n",
       "      <td>0.426022</td>\n",
       "      <td>0.652365</td>\n",
       "      <td>0.316972</td>\n",
       "      <td>0.571532</td>\n",
       "      <td>0.565608</td>\n",
       "      <td>0.198250</td>\n",
       "      <td>0.298107</td>\n",
       "      <td>0.612235</td>\n",
       "      <td>1.000000</td>\n",
       "    </tr>\n",
       "  </tbody>\n",
       "</table>\n",
       "</div>"
      ],
      "text/plain": [
       "              1stFlrSF  FullBath  GarageArea  GarageCars  GarageYrBlt  \\\n",
       "1stFlrSF      1.000000  0.373077    0.492011    0.440540     0.260450   \n",
       "FullBath      0.373077  1.000000    0.408487    0.479988     0.495688   \n",
       "GarageArea    0.492011  0.408487    1.000000    0.889700     0.555836   \n",
       "GarageCars    0.440540  0.479988    0.889700    1.000000     0.587712   \n",
       "GarageYrBlt   0.260450  0.495688    0.555836    0.587712     1.000000   \n",
       "GrLivArea     0.562538  0.630286    0.485469    0.489933     0.273411   \n",
       "OverallQual   0.479152  0.528483    0.565122    0.600744     0.571803   \n",
       "SalePrice     0.596981  0.594771    0.650888    0.680625     0.541073   \n",
       "TotRmsAbvGrd  0.391782  0.527337    0.328687    0.358053     0.162684   \n",
       "TotalBsmtSF   0.801670  0.327762    0.486067    0.437997     0.348408   \n",
       "YearBuilt     0.310814  0.471169    0.480735    0.538074     0.834812   \n",
       "YearRemodAdd  0.242245  0.457980    0.376765    0.426022     0.652365   \n",
       "\n",
       "              GrLivArea  OverallQual  SalePrice  TotRmsAbvGrd  TotalBsmtSF  \\\n",
       "1stFlrSF       0.562538     0.479152   0.596981      0.391782     0.801670   \n",
       "FullBath       0.630286     0.528483   0.594771      0.527337     0.327762   \n",
       "GarageArea     0.485469     0.565122   0.650888      0.328687     0.486067   \n",
       "GarageCars     0.489933     0.600744   0.680625      0.358053     0.437997   \n",
       "GarageYrBlt    0.273411     0.571803   0.541073      0.162684     0.348408   \n",
       "GrLivArea      1.000000     0.575126   0.700927      0.808354     0.445276   \n",
       "OverallQual    0.575126     1.000000   0.817185      0.389761     0.549294   \n",
       "SalePrice      0.700927     0.817185   1.000000      0.534422     0.612134   \n",
       "TotRmsAbvGrd   0.808354     0.389761   0.534422      1.000000     0.282126   \n",
       "TotalBsmtSF    0.445276     0.549294   0.612134      0.282126     1.000000   \n",
       "YearBuilt      0.242666     0.597554   0.586570      0.114280     0.408515   \n",
       "YearRemodAdd   0.316972     0.571532   0.565608      0.198250     0.298107   \n",
       "\n",
       "              YearBuilt  YearRemodAdd  \n",
       "1stFlrSF       0.310814      0.242245  \n",
       "FullBath       0.471169      0.457980  \n",
       "GarageArea     0.480735      0.376765  \n",
       "GarageCars     0.538074      0.426022  \n",
       "GarageYrBlt    0.834812      0.652365  \n",
       "GrLivArea      0.242666      0.316972  \n",
       "OverallQual    0.597554      0.571532  \n",
       "SalePrice      0.586570      0.565608  \n",
       "TotRmsAbvGrd   0.114280      0.198250  \n",
       "TotalBsmtSF    0.408515      0.298107  \n",
       "YearBuilt      1.000000      0.612235  \n",
       "YearRemodAdd   0.612235      1.000000  "
      ]
     },
     "execution_count": 111,
     "metadata": {},
     "output_type": "execute_result"
    }
   ],
   "source": [
    "corr=corr[row_index] # Correlation matrix for variables that have a correlation of 0.5 and higher with Sale Price\n",
    "corr"
   ]
  },
  {
   "cell_type": "code",
   "execution_count": 112,
   "metadata": {},
   "outputs": [
    {
     "data": {
      "image/png": "[encoded data removed]",
      "text/plain": [
       "<Figure size 576x396 with 2 Axes>"
      ]
     },
     "metadata": {},
     "output_type": "display_data"
    }
   ],
   "source": [
    "sns.heatmap(corr,cmap='GnBu',vmin=.5,vmax=1)\n",
    "plt.show()"
   ]
  },
  {
   "cell_type": "markdown",
   "metadata": {},
   "source": [
    "Here, I will show the relation between SalePrice and the teo variables with the highest correlation with SalePrice by way of vissulization. The two variables are Overall Quality and the ‘Above Grade’ Living Area.\n",
    "\n",
    "It is worth mentioning that some variables show a strong correlation, such as the correlation between GarageCars and GarageArea (0.89), and both have a high correlation with SalePrice.\n",
    "\n",
    "Also, 6 other variables have a high correlation with SalePrice: \n",
    "* TotalBsmtSF: Total square feet of basement area \n",
    "* 1stFlrSF: First Floor square feet \n",
    "* FullBath: Full bathrooms above grade \n",
    "* TotRmsAbvGrd: Total rooms above grade (does not include bathrooms) \n",
    "* YearBuilt: Original construction date \n",
    "* YearRemodAdd: Remodel date (same as construction date if no remodeling or additions)"
   ]
  },
  {
   "cell_type": "markdown",
   "metadata": {},
   "source": [
    "### 3.3 Overall Quality\n",
    "\n",
    "This variable has the highest correlation with SalePrice (0.79). It represents the overall material and finish of the house on a scale from 1 (very poor) to 10 (very excellent)."
   ]
  },
  {
   "cell_type": "code",
   "execution_count": 113,
   "metadata": {
    "collapsed": true
   },
   "outputs": [],
   "source": [
    "# The code below aggregate sale price values based on corresponding overall quality\n",
    "saleprice=[]\n",
    "for qual in range(1,11):\n",
    "    saleprice.append(train[train['OverallQual']==qual].SalePrice.tolist())\n"
   ]
  },
  {
   "cell_type": "code",
   "execution_count": 114,
   "metadata": {},
   "outputs": [
    {
     "data": {
      "image/png": "[encoded data removed]",
      "text/plain": [
       "<Figure size 576x396 with 1 Axes>"
      ]
     },
     "metadata": {},
     "output_type": "display_data"
    }
   ],
   "source": [
    "# Plotting boxplot of sale price for different overall quality values\n",
    "plt.boxplot(saleprice,positions=[1,2,3,4,5,6,7,8,9,10],showmeans=True,notch=True,showfliers=True)\n",
    "plt.xlabel('Overall Quality')\n",
    "plt.ylabel('Sale Price ($)')\n",
    "plt.show()"
   ]
  },
  {
   "cell_type": "markdown",
   "metadata": {},
   "source": [
    "From the box plot it seems that there is no extreme value regarding outliers. \n",
    "\n"
   ]
  },
  {
   "cell_type": "markdown",
   "metadata": {},
   "source": [
    "### 3.4 Above Grade (Ground) Living Area (sf)\n",
    "Above Grade living area has the second highest correlation with sale price. Here I made a visulization to show the relationship between the two columns."
   ]
  },
  {
   "cell_type": "code",
   "execution_count": 115,
   "metadata": {},
   "outputs": [
    {
     "data": {
      "image/png": "[encoded data removed]",
      "text/plain": [
       "<Figure size 576x396 with 1 Axes>"
      ]
     },
     "metadata": {},
     "output_type": "display_data"
    }
   ],
   "source": [
    "#marker_on=train['GrLivArea']\n",
    "plt.scatter(train['GrLivArea'],train['SalePrice'],c='b')\n",
    "plt.scatter(x=[4676,5648],y=[np.log1p(184750),np.log1p(160000)],c='r')\n",
    "plt.xlabel('Above Grade (sf)')\n",
    "plt.ylabel('Sale Price ($)')\n",
    "plt.show()"
   ]
  },
  {
   "cell_type": "code",
   "execution_count": 116,
   "metadata": {},
   "outputs": [
    {
     "data": {
      "text/html": [
       "<div>\n",
       "<style scoped>\n",
       "    .dataframe tbody tr th:only-of-type {\n",
       "        vertical-align: middle;\n",
       "    }\n",
       "\n",
       "    .dataframe tbody tr th {\n",
       "        vertical-align: top;\n",
       "    }\n",
       "\n",
       "    .dataframe thead th {\n",
       "        text-align: right;\n",
       "    }\n",
       "</style>\n",
       "<table border=\"1\" class=\"dataframe\">\n",
       "  <thead>\n",
       "    <tr style=\"text-align: right;\">\n",
       "      <th></th>\n",
       "      <th>GrLivArea</th>\n",
       "      <th>SalePrice</th>\n",
       "    </tr>\n",
       "  </thead>\n",
       "  <tbody>\n",
       "    <tr>\n",
       "      <th>523</th>\n",
       "      <td>4676</td>\n",
       "      <td>12.126764</td>\n",
       "    </tr>\n",
       "    <tr>\n",
       "      <th>1298</th>\n",
       "      <td>5642</td>\n",
       "      <td>11.982935</td>\n",
       "    </tr>\n",
       "  </tbody>\n",
       "</table>\n",
       "</div>"
      ],
      "text/plain": [
       "      GrLivArea  SalePrice\n",
       "523        4676  12.126764\n",
       "1298       5642  11.982935"
      ]
     },
     "execution_count": 116,
     "metadata": {},
     "output_type": "execute_result"
    }
   ],
   "source": [
    "train[train['GrLivArea']>4500][['GrLivArea','SalePrice']]"
   ]
  },
  {
   "cell_type": "markdown",
   "metadata": {},
   "source": [
    "The general trend looks good. If the area goes up, the sale price will go up as well. There are two houses (red dots) which do not follow the general trend and can be candidates for outliers. I am going to remove these two from the dataframe."
   ]
  },
  {
   "cell_type": "code",
   "execution_count": 117,
   "metadata": {
    "collapsed": true
   },
   "outputs": [],
   "source": [
    "df.drop(df.index[[523,1298]],inplace=True)\n"
   ]
  },
  {
   "cell_type": "code",
   "execution_count": 118,
   "metadata": {
    "collapsed": true
   },
   "outputs": [],
   "source": [
    "#ntrain = ntrain-2\n",
    "#ntest = test.shape[0]\n",
    "#df = pd.concat((train, test)).reset_index(drop=True)"
   ]
  },
  {
   "cell_type": "markdown",
   "metadata": {
    "_cell_guid": "9737b4dc-781d-44f9-a944-9a5d396bd75e",
    "_uuid": "e86c841b73b7bbbf1c1dc05cf9c08e611338ed86"
   },
   "source": [
    "# 4. Dealing with missing values\n",
    "As you can see there are many columns and it seems overwhelming to extract usefull features. First, I am going to find out how many null values there are in the dataset."
   ]
  },
  {
   "cell_type": "code",
   "execution_count": 119,
   "metadata": {
    "_cell_guid": "5759fc7a-6d79-4c7c-88c1-4378383e918f",
    "_uuid": "d211e73a1de38f033b277fd9fc2c7d5cf31aace8"
   },
   "outputs": [
    {
     "data": {
      "image/png": "[encoded data removed]",
      "text/plain": [
       "<Figure size 576x396 with 1 Axes>"
      ]
     },
     "metadata": {},
     "output_type": "display_data"
    }
   ],
   "source": [
    "missing = df.isnull().sum()\n",
    "missing = missing[missing > 0]/(df.shape[0])\n",
    "missing.sort_values(inplace=True)\n",
    "missing.plot.bar()\n",
    "plt.xlabel('Column name with missing values')\n",
    "plt.ylabel('Percentage of missing values')\n",
    "plt.show()\n"
   ]
  },
  {
   "cell_type": "markdown",
   "metadata": {
    "_cell_guid": "5f610659-bb26-46a7-bb66-42b3c27d5690",
    "_uuid": "76cbc2b52dd1bf76c3dc91ce5d744740dd928813",
    "collapsed": true
   },
   "source": [
    "There are 19 columns with missing values which need to be further explored. Five columns have more than 20% missing values which are PoolQC, \n",
    "MiscFeature, Alley, Fence and FireplaceQu.\n"
   ]
  },
  {
   "cell_type": "markdown",
   "metadata": {
    "_cell_guid": "7379a063-c836-4e03-92f5-65fe21bbe40f",
    "_uuid": "399ee44ccd1b45e440cb84fd59e0081d66eb7a09"
   },
   "source": [
    "## 4.1 PoolQc column\n",
    "This column has the most NA values. According to the description file, NA is assigned to the houses without a pool. There are five categories\n",
    "for Pool quality (Ex, Gd, TA, Fa, Po, and NA). I assign 'None' to the missing values. \n"
   ]
  },
  {
   "cell_type": "code",
   "execution_count": 120,
   "metadata": {
    "_cell_guid": "df437d0d-4188-4c35-b8e6-198578a2df38",
    "_uuid": "2792bb9f6f94de1902943c2f7eee21a875bf627c",
    "collapsed": true
   },
   "outputs": [],
   "source": [
    "df['PoolQC']=df['PoolQC'].fillna('None')\n"
   ]
  },
  {
   "cell_type": "markdown",
   "metadata": {
    "_cell_guid": "973728f5-5c1e-4e14-870d-132f54ee5ba6",
    "_uuid": "e9159e799ecfcc392ccd3ceeb79c83261dc17040"
   },
   "source": [
    "## 4.2 Miscfeature column\n",
    "This column has 2814 null values. According to the description file, None is assigned to the houses without a Miscellaneous feature. "
   ]
  },
  {
   "cell_type": "code",
   "execution_count": 121,
   "metadata": {
    "_cell_guid": "b8a1845d-27c7-4029-aa36-c0077fb9f34b",
    "_uuid": "a35c0c648d9e96a3d3a61b1405b6a9504302fe9d",
    "collapsed": true
   },
   "outputs": [],
   "source": [
    "df['MiscFeature']=df['MiscFeature'].fillna('None')"
   ]
  },
  {
   "cell_type": "markdown",
   "metadata": {
    "_cell_guid": "bd163313-0129-42c5-a09d-abf50a6072f7",
    "_uuid": "dca643ba2e6bba2a71fd3c289b292621ca3099f9"
   },
   "source": [
    "## 4.3 Alley column\n",
    "This column has 2721 null values. According to the description file, NA is assigned to the houses without an access to alley. There are two categories for alley  plus NA. I assign 'None' to NAs."
   ]
  },
  {
   "cell_type": "code",
   "execution_count": 122,
   "metadata": {
    "_cell_guid": "c2173932-85d4-4a91-84b9-cbc8ec213b88",
    "_uuid": "b518922bfaa04cda81fee61da588ab46c5177e95",
    "collapsed": true
   },
   "outputs": [],
   "source": [
    "df['Alley']=df['Alley'].fillna('None')"
   ]
  },
  {
   "cell_type": "markdown",
   "metadata": {
    "_cell_guid": "010f1829-f11c-4708-b0fd-f756ed654444",
    "_uuid": "fe1fe316b81605440ba33c518cc139ccf59c9cca"
   },
   "source": [
    "## 4.4 Fence column\n",
    "This column has 2348 null values. "
   ]
  },
  {
   "cell_type": "code",
   "execution_count": 123,
   "metadata": {
    "_cell_guid": "ac9f4651-21e8-47c2-add6-b73f5f607ff6",
    "_uuid": "f9baaf4917ffd2ca94e3e8efa82c8e1d5d2f890d",
    "collapsed": true
   },
   "outputs": [],
   "source": [
    "df['Fence']=df['Fence'].fillna('None')"
   ]
  },
  {
   "cell_type": "markdown",
   "metadata": {
    "_cell_guid": "9ef8639d-cb2b-479b-8645-2d6b98447c49",
    "_uuid": "be57664c6b599f39f82170fc3bb1996e6dfd203f"
   },
   "source": [
    "## 4.5 Fireplace columns\n",
    "\n",
    "**FireplaceQu**     \n",
    "This column has 1420 null values. "
   ]
  },
  {
   "cell_type": "code",
   "execution_count": 124,
   "metadata": {
    "_cell_guid": "5a9fdd5e-d804-4096-81dd-7e9b258f244e",
    "_uuid": "73483a8ee665769b32c5b583c1175d972df8af2b",
    "collapsed": true
   },
   "outputs": [],
   "source": [
    "df['FireplaceQu']=df['FireplaceQu'].fillna('None')"
   ]
  },
  {
   "cell_type": "markdown",
   "metadata": {},
   "source": [
    "**Fireplaces**: The values are integers and there is no missing value."
   ]
  },
  {
   "cell_type": "markdown",
   "metadata": {
    "_cell_guid": "7b948e4d-248c-4bf6-94ab-ff9975d7b962",
    "_uuid": "a8210a7e18802e3d4b24a8d71eb1dfb3d39d9c9e"
   },
   "source": [
    "## 4.6 Lot related columns\n",
    "There 3 variables in total. one of them with NAs and two without NAs.\n",
    "\n",
    "**LotFrontage**\n",
    "\n",
    "This column has 486 null values.  LotFrontage is defined as Linear feet of street connected to property. Plotting LotFrontage versus Neighborhood shows that  the distribution of LotFrontage varies acrros different neiborhoods. A good way to fill the missing values would be replacing them by the median for each neiborhood. The code below does this for us."
   ]
  },
  {
   "cell_type": "code",
   "execution_count": 125,
   "metadata": {
    "_cell_guid": "174b0313-536c-448b-9939-c195c9a511a6",
    "_uuid": "296ea471e31258f1f982e6d94de73822ae070644"
   },
   "outputs": [
    {
     "data": {
      "image/png": "[encoded data removed]",
      "text/plain": [
       "<Figure size 576x396 with 1 Axes>"
      ]
     },
     "metadata": {},
     "output_type": "display_data"
    }
   ],
   "source": [
    "plt.bar( df['Neighborhood'],df['LotFrontage'],1)\n",
    "plt.xlabel('Neighborhood')\n",
    "plt.xticks(rotation='vertical')\n",
    "plt.ylabel('LotFrontage')\n",
    "plt.show()\n"
   ]
  },
  {
   "cell_type": "code",
   "execution_count": 126,
   "metadata": {
    "_cell_guid": "76b0a85e-31b7-41ae-ab38-f51d356341fc",
    "_uuid": "e82251a9bbb7ed9f73a3f614830aa7971f84a2fc",
    "collapsed": true
   },
   "outputs": [],
   "source": [
    "# Group by LotFrontage by Neighborhood and filling NaN with the median of each Neighborhood using transform method\n",
    "df['LotFrontage']=df.LotFrontage.fillna(df.groupby('Neighborhood').LotFrontage.transform(lambda x: x.fillna(x.median())))"
   ]
  },
  {
   "cell_type": "markdown",
   "metadata": {
    "_cell_guid": "baa339b0-70d8-4bdf-ae67-f2330397ec18",
    "_uuid": "bfbe5620acac07020ace75a4a93cc9b2e7ed2ead"
   },
   "source": [
    "**LotShape**\n",
    "This column describes the shape of a lot. "
   ]
  },
  {
   "cell_type": "markdown",
   "metadata": {
    "_cell_guid": "0acfa38f-7212-4381-afd6-6a81b23b448f",
    "_uuid": "4ecec4a3fc5773fff2455000d89e9fc8442deaef"
   },
   "source": [
    "**LotConfig**\n",
    "There is no missing value in this column."
   ]
  },
  {
   "cell_type": "markdown",
   "metadata": {
    "_cell_guid": "1b5c8558-b662-4097-a4c5-ab9cf9af31e1",
    "_uuid": "8fafa344320b8487663fdae2b50baf4c8dda6954"
   },
   "source": [
    "## 4.7 Garage related columns"
   ]
  },
  {
   "cell_type": "markdown",
   "metadata": {
    "_cell_guid": "c100539d-8ad0-4ec0-aa2a-7dabf11bfa56",
    "_uuid": "2e156d54f7b4dfc4fc5a2bfe2d79a032c3848e90"
   },
   "source": [
    "There are 7 columns related to Garage with missing values. Two of those have one NA (GarageCars and GarageArea), one has 157 NAs (GarageType), 4 variables (GarageYrBlt, GarageFinish, GarageQual, and GarageCond) have 159 NAs."
   ]
  },
  {
   "cell_type": "markdown",
   "metadata": {
    "_cell_guid": "12b17c9e-fcbc-4990-90bb-b3f64f924f49",
    "_uuid": "2c503274d29a382b4605b1800fa28e6d54b5a6f5"
   },
   "source": [
    "** Garage Year Built**\n",
    "Here, we replace all 159 missing values with YearBuilt as it makes sense to assume that the house year built should be the same as the year the garage is built."
   ]
  },
  {
   "cell_type": "code",
   "execution_count": 127,
   "metadata": {
    "_cell_guid": "7654f34f-2f4f-4852-9064-b5216f10fd8c",
    "_uuid": "8289ae244841d38835c425b24188436dfa6a7ce5"
   },
   "outputs": [
    {
     "data": {
      "text/plain": [
       "159"
      ]
     },
     "execution_count": 127,
     "metadata": {},
     "output_type": "execute_result"
    }
   ],
   "source": [
    "df['GarageYrBlt'].isnull().sum()"
   ]
  },
  {
   "cell_type": "code",
   "execution_count": 128,
   "metadata": {
    "_cell_guid": "9255d404-3e34-4587-bd3c-c450db3b87fb",
    "_uuid": "f40fdbc5d08e474aca5a11e1a48f32b7b832cdb8",
    "collapsed": true
   },
   "outputs": [],
   "source": [
    "df['GarageYrBlt']=df['GarageYrBlt'].fillna(df['YearBuilt'])"
   ]
  },
  {
   "cell_type": "markdown",
   "metadata": {
    "_cell_guid": "b8d73a6f-b049-4944-8fff-28b135f219a6",
    "_uuid": "a97da39ce79bac10c022a9ef499cf9dcc47d1a43",
    "collapsed": true
   },
   "source": [
    "We need to find out why there are 159 NAs in GarageFinish, GarageQual, and GarageCond while there are 157 NAs in GarageType. Let's find those two houses."
   ]
  },
  {
   "cell_type": "code",
   "execution_count": 129,
   "metadata": {
    "_cell_guid": "8a0f61d8-8a64-42d7-b4d9-2864da375c23",
    "_uuid": "96788bc8cd8ebcf0acec457947345904ae4010a1",
    "collapsed": true
   },
   "outputs": [],
   "source": [
    "#index for null values\n",
    "GarageCond_null_index=df[df['GarageCond'].isnull()].index.tolist()\n",
    "GarageQual_null_index=df[df['GarageQual'].isnull()].index.tolist()\n",
    "GarageFinish_null_index=df[df['GarageFinish'].isnull()].index.tolist()\n",
    "GarageType_null_index=df[df['GarageType'].isnull()].index.tolist()"
   ]
  },
  {
   "cell_type": "code",
   "execution_count": 130,
   "metadata": {
    "_cell_guid": "2e6b0fae-cc4e-401c-8272-26152d6978cb",
    "_uuid": "39adbca8744a47f0a3f4e864252caf9557ef9c7e"
   },
   "outputs": [
    {
     "data": {
      "text/plain": [
       "[2576, 2126]"
      ]
     },
     "execution_count": 130,
     "metadata": {},
     "output_type": "execute_result"
    }
   ],
   "source": [
    "# this retuen an empty list for all Garage columns which means the differences are in the dataframe.\n",
    "list(set(GarageQual_null_index) - set(GarageType_null_index))"
   ]
  },
  {
   "cell_type": "markdown",
   "metadata": {
    "_cell_guid": "55749fd0-7160-4662-a10d-50b5c9ab8a8d",
    "_uuid": "20e058f881bacd8db0a3edae00ba62dd250e36ac"
   },
   "source": [
    "So, we should look into these two rows. It seems that 2576 has a Garage but 2126 does not have a Garage as almost everything is NAs. So for 2126 we set the NA to the most occured value while we set NA to no Garage for 2576.\n"
   ]
  },
  {
   "cell_type": "code",
   "execution_count": 131,
   "metadata": {
    "_cell_guid": "ca458610-b90a-4ce1-8052-3ded3ea99679",
    "_uuid": "91fded2963af270767947f51bc5d26a3ff80f8c8",
    "collapsed": true
   },
   "outputs": [],
   "source": [
    "Garage_related=['GarageCars','GarageArea','GarageType','GarageYrBlt','GarageFinish','GarageQual','GarageCond']"
   ]
  },
  {
   "cell_type": "code",
   "execution_count": 132,
   "metadata": {
    "collapsed": true
   },
   "outputs": [],
   "source": [
    "df['GarageFinish'].iloc[2126]=df['GarageFinish'].mode()[0]\n",
    "df['GarageQual'].iloc[2126]=df['GarageQual'].mode()[0]\n",
    "df['GarageCond'].iloc[2126]=df['GarageCond'].mode()[0]"
   ]
  },
  {
   "cell_type": "code",
   "execution_count": 133,
   "metadata": {
    "_cell_guid": "5aaa8195-76b7-4201-8b82-9275feeca501",
    "_uuid": "68864c92fc4d210ba76e90168a2a031fb794e0d9",
    "collapsed": true
   },
   "outputs": [],
   "source": [
    "df['GarageFinish'].iloc[2576]=np.nan\n",
    "df['GarageType'].iloc[2576]=np.nan\n",
    "df['GarageQual'].iloc[2576]=np.nan\n",
    "df['GarageCond'].iloc[2576]=np.nan\n",
    "df['GarageArea'].iloc[2576]=0\n",
    "df['GarageCars'].iloc[2576]=0"
   ]
  },
  {
   "cell_type": "markdown",
   "metadata": {
    "_cell_guid": "3489854d-35db-4098-a37c-ba94c3ffb591",
    "_uuid": "2039bb3741cbadadc8377f93b9624ab49fc0da7d"
   },
   "source": [
    "**Garage Type** "
   ]
  },
  {
   "cell_type": "code",
   "execution_count": 134,
   "metadata": {
    "_cell_guid": "cea170d6-60a4-44b8-80b1-f1000a9539d7",
    "_uuid": "33c201fb160c22319437d7ff915b5e9973edd670",
    "collapsed": true
   },
   "outputs": [],
   "source": [
    "df['GarageType']=df['GarageType'].fillna('None')"
   ]
  },
  {
   "cell_type": "markdown",
   "metadata": {
    "_cell_guid": "046a1f10-d637-4525-81b9-0e8dafdf3054",
    "_uuid": "d5e26ba8692488f7300b9d60431b86e739066427"
   },
   "source": [
    "**Garage Finish** "
   ]
  },
  {
   "cell_type": "code",
   "execution_count": 135,
   "metadata": {
    "_cell_guid": "3e57b3ca-c07b-4505-94ff-086288010f8c",
    "_uuid": "caa7997ba638fa18033d99ba9261b1a05b347ee7",
    "collapsed": true
   },
   "outputs": [],
   "source": [
    "df['GarageFinish']=df['GarageFinish'].fillna('None')"
   ]
  },
  {
   "cell_type": "markdown",
   "metadata": {
    "_cell_guid": "2b51e021-bb1d-4f2c-b863-a769d3f70718",
    "_uuid": "ced270493f3395601296be93ec9670f07b056be4"
   },
   "source": [
    "**Garage Quality and Garage Condition** "
   ]
  },
  {
   "cell_type": "code",
   "execution_count": 136,
   "metadata": {
    "_cell_guid": "c1dd1e00-ad82-49c6-98d5-115c9cabada5",
    "_uuid": "11ebe032e32db1e03c58f20366e2d4c8e83826b0",
    "collapsed": true
   },
   "outputs": [],
   "source": [
    "df['GarageQual']=df['GarageQual'].fillna('None')\n",
    "df['GarageCond']=df['GarageCond'].fillna('None')"
   ]
  },
  {
   "cell_type": "markdown",
   "metadata": {},
   "source": [
    "**Garage Area** and **Garage Cars**"
   ]
  },
  {
   "cell_type": "code",
   "execution_count": 137,
   "metadata": {
    "collapsed": true
   },
   "outputs": [],
   "source": [
    "df['GarageArea']=df['GarageArea'].fillna(df['GarageArea'].median())\n",
    "df['GarageCars']=df['GarageCars'].fillna(df['GarageCars'].median())"
   ]
  },
  {
   "cell_type": "markdown",
   "metadata": {
    "_cell_guid": "e606b777-0fd0-4056-b3d5-73b6ee2305ba",
    "_uuid": "fd63c2ac3247e39a3bb297ef5f7a46d341b7e748"
   },
   "source": [
    "## 4.8 MS Zoning column\n"
   ]
  },
  {
   "cell_type": "code",
   "execution_count": 138,
   "metadata": {
    "_cell_guid": "891e870a-b25a-45c5-ab7e-f51bceb87465",
    "_uuid": "bb49f5334ecce1f03f58261cdcc2eeb80f1676f6"
   },
   "outputs": [
    {
     "data": {
      "text/plain": [
       "4"
      ]
     },
     "execution_count": 138,
     "metadata": {},
     "output_type": "execute_result"
    }
   ],
   "source": [
    "df['MSZoning'].isnull().sum()"
   ]
  },
  {
   "cell_type": "code",
   "execution_count": 139,
   "metadata": {
    "_cell_guid": "e16dc011-a278-4bfc-9db7-7f09c064cd49",
    "_uuid": "fc5b7f6771cc6708a52d920876117b3505b722ec",
    "collapsed": true
   },
   "outputs": [],
   "source": [
    "df['MSZoning']=df['MSZoning'].fillna(df['MSZoning'].mode()[0])"
   ]
  },
  {
   "cell_type": "markdown",
   "metadata": {
    "_cell_guid": "eec7b201-51cb-46b6-99ef-82a838ec042b",
    "_uuid": "5b2b31be0c7fd72257aa09aa05fe0c31df00f67e"
   },
   "source": [
    "## 4.9 Basement related  columns"
   ]
  },
  {
   "cell_type": "markdown",
   "metadata": {
    "_cell_guid": "941f796c-745f-4b86-99be-425782be7669",
    "_uuid": "c2687a6957f424e046268e384ffbc866c20c306b",
    "collapsed": true
   },
   "source": [
    "There are 11 columns related to the basemnet of a house.  5 columns (BsmtQual, BsmtCond, BsmtExposure, BsmtFinType1, BsmtFinType2) have 79-80 NAs while the rest have 1 or 2 NAs. for the columns with +79 NAs, I find the index of the NA columns and I fill the difference with mode."
   ]
  },
  {
   "cell_type": "code",
   "execution_count": 140,
   "metadata": {
    "_cell_guid": "200ba801-bf48-46de-bed1-5b1140a9e576",
    "_uuid": "49deec1c2f5d26376d17359ea129f76325b4538b",
    "collapsed": true
   },
   "outputs": [],
   "source": [
    "BsmtQual_null_index=df[df['BsmtQual'].isnull()].index.tolist() #79 NAs\n",
    "BsmtCond_null_index=df[df['BsmtCond'].isnull()].index.tolist()  #79 NAs \n",
    "BsmtExposure_null_index=df[df['BsmtExposure'].isnull()].index.tolist() #80 NAs -->948\n",
    "BsmtFinType1_null_index=df[df['BsmtFinType1'].isnull()].index.tolist() #79 NAs\n",
    "BsmtFinType2_null_index=df[df['BsmtFinType2'].isnull()].index.tolist() #80 NAs -->332"
   ]
  },
  {
   "cell_type": "code",
   "execution_count": 141,
   "metadata": {
    "_cell_guid": "5cdf7706-9de6-445e-93d5-516bcbe79766",
    "_uuid": "63d62758486b761d950ae89ccb37ac01ca056269",
    "collapsed": true
   },
   "outputs": [],
   "source": [
    "df['BsmtExposure'].iloc[948]=df['BsmtExposure'].mode()[0]\n",
    "df['BsmtFinType2'].iloc[332]=df['BsmtFinType2'].mode()[0]"
   ]
  },
  {
   "cell_type": "markdown",
   "metadata": {
    "_cell_guid": "da85a1ac-e4cd-4fc7-84a1-df80aa3fe206",
    "_uuid": "2bc96bf4c387d2a3b47ed09dec423839376092da"
   },
   "source": [
    "**BsmtQual and BsmtCond**"
   ]
  },
  {
   "cell_type": "code",
   "execution_count": 142,
   "metadata": {
    "_cell_guid": "a7fe81c3-4228-4929-a479-d16af7fab496",
    "_uuid": "f689fd1413596331f4864c395547f447b866603c",
    "collapsed": true
   },
   "outputs": [],
   "source": [
    "df['BsmtQual']=df['BsmtQual'].fillna('None')\n",
    "df['BsmtCond']=df['BsmtCond'].fillna('None')"
   ]
  },
  {
   "cell_type": "markdown",
   "metadata": {
    "_cell_guid": "610dcef7-1e5c-4cc1-ac67-f11c399bc21e",
    "_uuid": "93796b1a44ffc443f181755929fdfe52da828334"
   },
   "source": [
    "**BsmtExposure**"
   ]
  },
  {
   "cell_type": "code",
   "execution_count": 143,
   "metadata": {
    "_cell_guid": "6d8d8a33-0c58-444e-b488-b36cc1776111",
    "_uuid": "26f3b6908aa3a44b7c4500e2e3ebd1e608873ebf",
    "collapsed": true
   },
   "outputs": [],
   "source": [
    "df['BsmtExposure']=df['BsmtExposure'].fillna('None')"
   ]
  },
  {
   "cell_type": "markdown",
   "metadata": {
    "_cell_guid": "eb0ad677-a0d5-47ad-8cd5-14755c161585",
    "_uuid": "a9aef72ce79d3dd3f45b280e2fcc089889721c28"
   },
   "source": [
    "**BsmtFinType1 and BsmtFinType2**"
   ]
  },
  {
   "cell_type": "code",
   "execution_count": 144,
   "metadata": {
    "_cell_guid": "5444b24f-77bf-4656-8242-4beb391677fa",
    "_uuid": "53c4f0159ce370d6f75331e9ea4679d72bbb304d",
    "collapsed": true
   },
   "outputs": [],
   "source": [
    "df['BsmtFinType1']=df['BsmtFinType1'].fillna('None')\n",
    "df['BsmtFinType2']=df['BsmtFinType2'].fillna('None')"
   ]
  },
  {
   "cell_type": "markdown",
   "metadata": {
    "_cell_guid": "19ab27ff-7d5a-4fd5-8dc4-f2623b6de09d",
    "_uuid": "99c0dc263673dd7f155044eebbd92116451b8d46"
   },
   "source": [
    "For the rest of Basement related columns with 1 or 2 NAs, we set them to 0 as there is no basement in the house."
   ]
  },
  {
   "cell_type": "code",
   "execution_count": 145,
   "metadata": {
    "_cell_guid": "159a935f-c4c2-4c08-ab67-c5739df694fa",
    "_uuid": "11c8c95ab5d4101e84eca8fbc527c972aaf3c783",
    "collapsed": true
   },
   "outputs": [],
   "source": [
    "df['BsmtFullBath']=df['BsmtFullBath'].fillna(0)\n",
    "df['BsmtHalfBath']=df['BsmtHalfBath'].fillna(0)\n",
    "df['BsmtFinSF1']=df['BsmtFinSF1'].fillna(0)\n",
    "df['BsmtFinSF2']=df['BsmtFinSF2'].fillna(0)\n",
    "df['BsmtUnfSF']=df['BsmtUnfSF'].fillna(0)\n",
    "df['TotalBsmtSF']=df['TotalBsmtSF'].fillna(0)"
   ]
  },
  {
   "cell_type": "markdown",
   "metadata": {
    "_cell_guid": "76f2063e-a49a-4f53-9e78-a34ab2bcaf27",
    "_uuid": "a846f08988e25debae113c1e1cd6ac906204c1a2"
   },
   "source": [
    "## 4.10 Masonry type and Masonry area  columns\n",
    "\n",
    "There are 24 NAs in Masonry type and 23 NAs in Masonry area. for the one difference I use mode to fill the NA. if a house has Masonry area it shoul have Masonry type as well. I am going to find the index of this difference and I use mode to fill that row for Masonry type.\n"
   ]
  },
  {
   "cell_type": "code",
   "execution_count": 146,
   "metadata": {
    "_cell_guid": "d3e53724-ccaf-4003-8918-fbb586f97481",
    "_uuid": "0226cc57ffa8ad1b3bdd7c7f911c155d7507c7ab",
    "collapsed": true
   },
   "outputs": [],
   "source": [
    "MasVnrType_null_index=df[df['MasVnrType'].isnull()].index.tolist() #24 NAs \n",
    "MasVnrArea_null_index=df[df['MasVnrArea'].isnull()].index.tolist() #23 NAs"
   ]
  },
  {
   "cell_type": "code",
   "execution_count": 147,
   "metadata": {
    "_cell_guid": "0e8e28d6-9717-4700-80ed-9f5e79972455",
    "_uuid": "ccec375a18ba25aadf9e6b28efc91dab5514a83a"
   },
   "outputs": [
    {
     "data": {
      "text/plain": [
       "[2610]"
      ]
     },
     "execution_count": 147,
     "metadata": {},
     "output_type": "execute_result"
    }
   ],
   "source": [
    "list(set(MasVnrType_null_index) - set(MasVnrArea_null_index))"
   ]
  },
  {
   "cell_type": "code",
   "execution_count": 148,
   "metadata": {
    "_cell_guid": "4216b0cf-422d-48d5-9894-7b8366578e0a",
    "_uuid": "839306af8eaa06ff8c0921c19317b75d5920f005",
    "collapsed": true
   },
   "outputs": [],
   "source": [
    "df['MasVnrType'].iloc[2610]=df['MasVnrType'].mode()[0]"
   ]
  },
  {
   "cell_type": "markdown",
   "metadata": {
    "_cell_guid": "bd987422-2ff7-4bdf-8acb-9d4f8e101b1f",
    "_uuid": "673d483ada0cc776ecfe0380ac50032c0d03fb20"
   },
   "source": [
    "Now, Masonry Area with NAs should be 0 as there is no Masonry type. "
   ]
  },
  {
   "cell_type": "code",
   "execution_count": 149,
   "metadata": {
    "_cell_guid": "4b0e1939-7f9b-45bb-928a-ae75890fc605",
    "_uuid": "1c53146d8a1da8a4767cae03640f6cdae44ea131",
    "collapsed": true
   },
   "outputs": [],
   "source": [
    "df['MasVnrArea']=df['MasVnrArea'].fillna(0)"
   ]
  },
  {
   "cell_type": "code",
   "execution_count": 150,
   "metadata": {
    "_cell_guid": "483d33b8-85b7-46dc-8768-daec257b7aab",
    "_uuid": "8a5d1b15ca3487563c90c20a58aa57f16f7fc681",
    "collapsed": true
   },
   "outputs": [],
   "source": [
    "df['MasVnrType']=df['MasVnrType'].fillna('None')"
   ]
  },
  {
   "cell_type": "markdown",
   "metadata": {
    "_cell_guid": "637c5789-13f3-4f82-8109-6119d08db649",
    "_uuid": "56833f6cff27e3757bb7331459cf4dc435d0cbdf"
   },
   "source": [
    "## 4.11 Kitchen related columns\n",
    "\n",
    "**KitchenQual**\n",
    "\n",
    "There is only one NA in kitchen quality. "
   ]
  },
  {
   "cell_type": "code",
   "execution_count": 151,
   "metadata": {
    "_cell_guid": "6d86a2cf-10ee-4be1-8ed7-21ad662308db",
    "_uuid": "9806876c284ac09650ec4ecc00915e066b46eb4d",
    "collapsed": true
   },
   "outputs": [],
   "source": [
    "df['KitchenQual']=df['KitchenQual'].fillna(df['KitchenQual'].mode()[0])"
   ]
  },
  {
   "cell_type": "markdown",
   "metadata": {
    "_cell_guid": "d7bf8ab1-c80b-430e-b20a-2812dc984fd5",
    "_uuid": "663559095c994dacc21d2f6e470d9d8fd98e43e6"
   },
   "source": [
    "**Kitchen** \n",
    "It is defined as number of Kitchens above grade. Values are numeric so I leave them as is."
   ]
  },
  {
   "cell_type": "markdown",
   "metadata": {
    "_cell_guid": "b7a5057b-f908-4c3c-bd3e-e67ac75fe5b7",
    "_uuid": "14cafd734dbf52a76fe281019e0b826c69d5b63a"
   },
   "source": [
    "## 4.12 Utilities"
   ]
  },
  {
   "cell_type": "code",
   "execution_count": 152,
   "metadata": {
    "_cell_guid": "6756976b-de4e-4e6c-8222-e72106b00c5e",
    "_uuid": "9a759ad7e2d2e28772e48ff186fd943668cbdfd7"
   },
   "outputs": [
    {
     "data": {
      "text/plain": [
       "array(['AllPub', 'NoSeWa'], dtype=object)"
      ]
     },
     "execution_count": 152,
     "metadata": {},
     "output_type": "execute_result"
    }
   ],
   "source": [
    "train['Utilities'].unique()"
   ]
  },
  {
   "cell_type": "code",
   "execution_count": 153,
   "metadata": {
    "_cell_guid": "64123d92-59db-438b-94ce-9bde4b335537",
    "_uuid": "3d446f800089cd2e0f0385356fc23e1769355463"
   },
   "outputs": [
    {
     "data": {
      "text/plain": [
       "array(['AllPub', nan], dtype=object)"
      ]
     },
     "execution_count": 153,
     "metadata": {},
     "output_type": "execute_result"
    }
   ],
   "source": [
    "test['Utilities'].unique()"
   ]
  },
  {
   "cell_type": "markdown",
   "metadata": {
    "_cell_guid": "a209adae-c542-49f6-b6c2-de017395438d",
    "_uuid": "075a444eb465f6ca7ce6bd7d249c81f5eb50b1cc"
   },
   "source": [
    "All rows in this column in test set are 'AllPub' with one NA. So it is a good idea to drop this column as it would not affect our prediction."
   ]
  },
  {
   "cell_type": "code",
   "execution_count": 154,
   "metadata": {
    "_cell_guid": "7df08929-6937-4225-83bb-35d719de15f4",
    "_uuid": "ed492f3f6f454cf8f1b10b10713784ef3286f828",
    "collapsed": true
   },
   "outputs": [],
   "source": [
    "df.drop(['Utilities'],axis=1,inplace=True)"
   ]
  },
  {
   "cell_type": "markdown",
   "metadata": {
    "_cell_guid": "395d4de5-d231-4325-b106-76637a0da3d0",
    "_uuid": "48ac7359339eabaa7bf24c268ef6d02f6e0dfb3c"
   },
   "source": [
    "## 4.13 Home functionality\n",
    "Data description says NA means typical."
   ]
  },
  {
   "cell_type": "code",
   "execution_count": 155,
   "metadata": {
    "_cell_guid": "26d3cec6-7f99-43f7-bd4d-f26ab62e63bf",
    "_uuid": "da5586db4e9cecb98d684970bacc7ddc6cfdd762"
   },
   "outputs": [
    {
     "data": {
      "text/plain": [
       "2"
      ]
     },
     "execution_count": 155,
     "metadata": {},
     "output_type": "execute_result"
    }
   ],
   "source": [
    "df['Functional'].isnull().sum()"
   ]
  },
  {
   "cell_type": "code",
   "execution_count": 156,
   "metadata": {
    "_cell_guid": "77e65c02-1822-47c7-a310-d033d2f91b74",
    "_uuid": "9bc92722c67d6b3667be52df6458a296e6542ea8",
    "collapsed": true
   },
   "outputs": [],
   "source": [
    "df[\"Functional\"] = df[\"Functional\"].fillna(\"Typ\")"
   ]
  },
  {
   "cell_type": "markdown",
   "metadata": {
    "_cell_guid": "4d9e5648-9720-44e3-8dbf-c2ab48229203",
    "_uuid": "45e14c69b56a632a461f521a268d2acf43584874"
   },
   "source": [
    "## 4.14 Exterior related columns\n",
    "**ExteriorCond** and **ExteriorQual** have no NA. "
   ]
  },
  {
   "cell_type": "markdown",
   "metadata": {
    "_cell_guid": "97d39636-9550-422e-a703-ea1a96b8be61",
    "_uuid": "dacd4e981d5d2adf85f9f210e259918d824788fa"
   },
   "source": [
    "There is 1 NA in Exterior1nd test set and 1 NA in Exterior2nd test set. I replace them with mode. "
   ]
  },
  {
   "cell_type": "code",
   "execution_count": 157,
   "metadata": {
    "_cell_guid": "8952a33d-81d2-4869-9b5f-a89d84998b41",
    "_uuid": "9fc9d6824aefa02c9f93b9aa71bf13eb6155cdf2",
    "collapsed": true
   },
   "outputs": [],
   "source": [
    "df['Exterior2nd']=df['Exterior2nd'].fillna(df['Exterior2nd'].mode()[0])\n",
    "df['Exterior1st']=df['Exterior1st'].fillna(df['Exterior1st'].mode()[0])"
   ]
  },
  {
   "cell_type": "markdown",
   "metadata": {
    "_cell_guid": "ab86163e-589e-4c7c-ae90-82be3a9aa065",
    "_uuid": "4e1e7f6562ac6be0176bd155d7ad0584f02767c4"
   },
   "source": [
    "## 4.15 Electrical  column\n",
    "There is 1 NA. I replace it with mode. "
   ]
  },
  {
   "cell_type": "code",
   "execution_count": 158,
   "metadata": {
    "_cell_guid": "1dc58928-e951-4fc0-99da-d39e332d64b2",
    "_uuid": "cf1409a6e96654c28732dc49b92e08cc19aa77f1"
   },
   "outputs": [
    {
     "data": {
      "text/plain": [
       "1"
      ]
     },
     "execution_count": 158,
     "metadata": {},
     "output_type": "execute_result"
    }
   ],
   "source": [
    "df['Electrical'].isnull().sum()"
   ]
  },
  {
   "cell_type": "code",
   "execution_count": 159,
   "metadata": {
    "_cell_guid": "7919bf28-b8e5-434e-b263-87555ad2420f",
    "_uuid": "48cfb4481181198457e241c6994f65e7f2663c99",
    "collapsed": true
   },
   "outputs": [],
   "source": [
    "df['Electrical']=df['Electrical'].fillna(df['Electrical'].mode()[0])"
   ]
  },
  {
   "cell_type": "markdown",
   "metadata": {
    "_cell_guid": "bd8b81bd-1d77-485d-9682-6c840df585d8",
    "_uuid": "61c05c6c851cf9017d5fcf12f343a01093f9b977"
   },
   "source": [
    "## 4.16 SaleType\n",
    "\n",
    "**Type of sale**\n",
    "There is 1 NA. I replace it with mode. "
   ]
  },
  {
   "cell_type": "code",
   "execution_count": 160,
   "metadata": {
    "_cell_guid": "1099cc08-82f2-4518-a837-c206bb22cd04",
    "_uuid": "0f500341369ab98acb730225240468b157ffa0a3"
   },
   "outputs": [
    {
     "data": {
      "text/plain": [
       "1"
      ]
     },
     "execution_count": 160,
     "metadata": {},
     "output_type": "execute_result"
    }
   ],
   "source": [
    "df['SaleType'].isnull().sum()"
   ]
  },
  {
   "cell_type": "code",
   "execution_count": 161,
   "metadata": {
    "_cell_guid": "69d2e791-4d6b-43bd-9e14-f96fae84299a",
    "_uuid": "48839abd88f32c7b30a2d76e1af2b858385de9cf",
    "collapsed": true
   },
   "outputs": [],
   "source": [
    "df['SaleType']=df['SaleType'].fillna(df['SaleType'].mode()[0])"
   ]
  },
  {
   "cell_type": "markdown",
   "metadata": {},
   "source": [
    "**Sale Condition**\n",
    "\n",
    "There is no NA. "
   ]
  },
  {
   "cell_type": "markdown",
   "metadata": {},
   "source": [
    "## 4.17 Sanity check"
   ]
  },
  {
   "cell_type": "code",
   "execution_count": 162,
   "metadata": {},
   "outputs": [
    {
     "data": {
      "text/plain": [
       "1459"
      ]
     },
     "execution_count": 162,
     "metadata": {},
     "output_type": "execute_result"
    }
   ],
   "source": [
    "df.isnull().sum().sum()"
   ]
  },
  {
   "cell_type": "markdown",
   "metadata": {},
   "source": [
    "There is no missing value in the dataframe. The number above, 1459 refers to the Sale Price from the test after t of train and test sets."
   ]
  },
  {
   "cell_type": "markdown",
   "metadata": {},
   "source": [
    "# 5. Feature engineering"
   ]
  },
  {
   "cell_type": "markdown",
   "metadata": {},
   "source": [
    "## 5.1 Transforming numeric values to categorical values\n",
    "There are three variables that are given in form of numbers but they seem categorical. "
   ]
  },
  {
   "cell_type": "markdown",
   "metadata": {},
   "source": [
    "**Year and Month sold**        \n",
    "In order to show this I am going to plot Sale Price versus Year Sold and Month Sold.\n"
   ]
  },
  {
   "cell_type": "code",
   "execution_count": 163,
   "metadata": {},
   "outputs": [
    {
     "data": {
      "image/png": "[encoded data removed]",
      "text/plain": [
       "<Figure size 576x396 with 1 Axes>"
      ]
     },
     "metadata": {},
     "output_type": "display_data"
    }
   ],
   "source": [
    "plt.bar( train['YrSold'],train['SalePrice'],.9)\n",
    "plt.xlabel('Year Sold')\n",
    "plt.ylabel('Sale Price')\n",
    "plt.show()"
   ]
  },
  {
   "cell_type": "code",
   "execution_count": 164,
   "metadata": {},
   "outputs": [
    {
     "data": {
      "image/png": "[encoded data removed]",
      "text/plain": [
       "<Figure size 576x396 with 1 Axes>"
      ]
     },
     "metadata": {},
     "output_type": "display_data"
    }
   ],
   "source": [
    "plt.bar( train['MoSold'],train['SalePrice'],.9)\n",
    "plt.xlabel('Month Sold')\n",
    "plt.ylabel('Sale Price')\n",
    "plt.show()"
   ]
  },
  {
   "cell_type": "markdown",
   "metadata": {},
   "source": [
    "As shown above, there is no trend for sale price between different months or years. It is better to transform these variables to categories."
   ]
  },
  {
   "cell_type": "code",
   "execution_count": 165,
   "metadata": {
    "collapsed": true
   },
   "outputs": [],
   "source": [
    "df['YrSold'] = df['YrSold'].astype(str)\n",
    "df['MoSold'] = df['MoSold'].astype(str)"
   ]
  },
  {
   "cell_type": "markdown",
   "metadata": {},
   "source": [
    "**MSSubClass**\n",
    "This variable identifies the type of dwelling involved in the sale. The values are reported as numbers but they look categorical."
   ]
  },
  {
   "cell_type": "markdown",
   "metadata": {},
   "source": [
    "20  1-STORY 1946 & NEWER ALL STYLES           \n",
    "30  1-STORY 1945 & OLDER           \n",
    "40  1-STORY W/FINISHED ATTIC ALL AGES           \n",
    "45  1-1/2 STORY - UNFINISHED ALL AGES              \n",
    "50  1-1/2 STORY FINISHED ALL AGES           \n",
    "60  2-STORY 1946 & NEWER             \n",
    "70  2-STORY 1945 & OLDER             \n",
    "75  2-1/2 STORY ALL AGES                 \n",
    "80  SPLIT OR MULTI-LEVEL            \n",
    "85  SPLIT FOYER              \n",
    "90  DUPLEX - ALL STYLES AND AGES             \n",
    "120  1-STORY PUD (Planned Unit Development) - 1946 & NEWER               \n",
    "150  1-1/2 STORY PUD - ALL AGES                \n",
    "160  2-STORY PUD - 1946 & NEWER             \n",
    "180  PUD - MULTILEVEL - INCL SPLIT LEV/FOYER                \n",
    "190  2 FAMILY CONVERSION - ALL STYLES AND AGES              "
   ]
  },
  {
   "cell_type": "code",
   "execution_count": 166,
   "metadata": {
    "_cell_guid": "3899d650-eb37-4033-b465-1332e8040ecd",
    "_uuid": "4583b86b7a6b5b94eba0c4b234497ea7e261dbbc",
    "collapsed": true
   },
   "outputs": [],
   "source": [
    "df['MSSubClass'] = df['MSSubClass'].astype(str)"
   ]
  },
  {
   "cell_type": "markdown",
   "metadata": {},
   "source": [
    "## 5.2 Label encoding\n",
    "Some of the varianles have some sort of ordering or have categorical values. Here I am going to the label encoding."
   ]
  },
  {
   "cell_type": "code",
   "execution_count": 167,
   "metadata": {},
   "outputs": [
    {
     "name": "stdout",
     "output_type": "stream",
     "text": [
      "Shape dataframe: (2917, 79)\n"
     ]
    }
   ],
   "source": [
    "from sklearn.preprocessing import LabelEncoder\n",
    "cols = ('FireplaceQu', 'BsmtQual', 'BsmtCond', 'GarageQual', 'GarageCond', \n",
    "        'ExterQual', 'ExterCond','HeatingQC', 'PoolQC', 'KitchenQual', 'BsmtFinType1', \n",
    "        'BsmtFinType2', 'Functional', 'Fence', 'BsmtExposure', 'GarageFinish', 'LandSlope',\n",
    "        'LotShape', 'PavedDrive', 'Street', 'Alley', 'CentralAir', 'MSSubClass', 'OverallCond', \n",
    "        'YrSold', 'MoSold')\n",
    "# process columns, apply LabelEncoder to categorical features\n",
    "for c in cols:\n",
    "    lbl = LabelEncoder() \n",
    "    lbl.fit(list(df[c].values)) \n",
    "    df[c] = lbl.transform(list(df[c].values))\n",
    "\n",
    "# shape        \n",
    "print('Shape dataframe: {}'.format(df.shape))"
   ]
  },
  {
   "cell_type": "markdown",
   "metadata": {},
   "source": [
    "## 5.3 Incorrect values\n",
    "Some values can be obviously wrong and this might impact our model. I used min and max values to check odd values in the data"
   ]
  },
  {
   "cell_type": "code",
   "execution_count": 168,
   "metadata": {},
   "outputs": [
    {
     "data": {
      "text/html": [
       "<div>\n",
       "<style scoped>\n",
       "    .dataframe tbody tr th:only-of-type {\n",
       "        vertical-align: middle;\n",
       "    }\n",
       "\n",
       "    .dataframe tbody tr th {\n",
       "        vertical-align: top;\n",
       "    }\n",
       "\n",
       "    .dataframe thead th {\n",
       "        text-align: right;\n",
       "    }\n",
       "</style>\n",
       "<table border=\"1\" class=\"dataframe\">\n",
       "  <thead>\n",
       "    <tr style=\"text-align: right;\">\n",
       "      <th></th>\n",
       "      <th>1stFlrSF</th>\n",
       "      <th>2ndFlrSF</th>\n",
       "      <th>3SsnPorch</th>\n",
       "      <th>Alley</th>\n",
       "      <th>BedroomAbvGr</th>\n",
       "      <th>BsmtCond</th>\n",
       "      <th>BsmtExposure</th>\n",
       "      <th>BsmtFinSF1</th>\n",
       "      <th>BsmtFinSF2</th>\n",
       "      <th>BsmtFinType1</th>\n",
       "      <th>...</th>\n",
       "      <th>PoolQC</th>\n",
       "      <th>SalePrice</th>\n",
       "      <th>ScreenPorch</th>\n",
       "      <th>Street</th>\n",
       "      <th>TotRmsAbvGrd</th>\n",
       "      <th>TotalBsmtSF</th>\n",
       "      <th>WoodDeckSF</th>\n",
       "      <th>YearBuilt</th>\n",
       "      <th>YearRemodAdd</th>\n",
       "      <th>YrSold</th>\n",
       "    </tr>\n",
       "  </thead>\n",
       "  <tbody>\n",
       "    <tr>\n",
       "      <th>count</th>\n",
       "      <td>2917.000000</td>\n",
       "      <td>2917.000000</td>\n",
       "      <td>2917.000000</td>\n",
       "      <td>2917.000000</td>\n",
       "      <td>2917.000000</td>\n",
       "      <td>2917.000000</td>\n",
       "      <td>2917.000000</td>\n",
       "      <td>2917.000000</td>\n",
       "      <td>2917.000000</td>\n",
       "      <td>2917.000000</td>\n",
       "      <td>...</td>\n",
       "      <td>2917.000000</td>\n",
       "      <td>1458.000000</td>\n",
       "      <td>2917.000000</td>\n",
       "      <td>2917.000000</td>\n",
       "      <td>2917.000000</td>\n",
       "      <td>2917.000000</td>\n",
       "      <td>2917.000000</td>\n",
       "      <td>2917.000000</td>\n",
       "      <td>2917.000000</td>\n",
       "      <td>2917.000000</td>\n",
       "    </tr>\n",
       "    <tr>\n",
       "      <th>mean</th>\n",
       "      <td>1157.692492</td>\n",
       "      <td>335.861502</td>\n",
       "      <td>2.604045</td>\n",
       "      <td>0.985602</td>\n",
       "      <td>2.860130</td>\n",
       "      <td>3.673980</td>\n",
       "      <td>2.328420</td>\n",
       "      <td>438.864930</td>\n",
       "      <td>49.599246</td>\n",
       "      <td>3.183750</td>\n",
       "      <td>...</td>\n",
       "      <td>2.993486</td>\n",
       "      <td>12.024015</td>\n",
       "      <td>16.073363</td>\n",
       "      <td>0.995886</td>\n",
       "      <td>6.448063</td>\n",
       "      <td>1048.967775</td>\n",
       "      <td>93.629414</td>\n",
       "      <td>1971.287967</td>\n",
       "      <td>1984.248200</td>\n",
       "      <td>1.792938</td>\n",
       "    </tr>\n",
       "    <tr>\n",
       "      <th>std</th>\n",
       "      <td>385.264298</td>\n",
       "      <td>428.119663</td>\n",
       "      <td>25.196714</td>\n",
       "      <td>0.260180</td>\n",
       "      <td>0.822967</td>\n",
       "      <td>0.977272</td>\n",
       "      <td>1.151038</td>\n",
       "      <td>444.180542</td>\n",
       "      <td>169.232130</td>\n",
       "      <td>2.235724</td>\n",
       "      <td>...</td>\n",
       "      <td>0.126789</td>\n",
       "      <td>0.399713</td>\n",
       "      <td>56.202054</td>\n",
       "      <td>0.064018</td>\n",
       "      <td>1.564281</td>\n",
       "      <td>429.472008</td>\n",
       "      <td>126.532643</td>\n",
       "      <td>30.286991</td>\n",
       "      <td>20.892257</td>\n",
       "      <td>1.315328</td>\n",
       "    </tr>\n",
       "    <tr>\n",
       "      <th>min</th>\n",
       "      <td>334.000000</td>\n",
       "      <td>0.000000</td>\n",
       "      <td>0.000000</td>\n",
       "      <td>0.000000</td>\n",
       "      <td>0.000000</td>\n",
       "      <td>0.000000</td>\n",
       "      <td>0.000000</td>\n",
       "      <td>0.000000</td>\n",
       "      <td>0.000000</td>\n",
       "      <td>0.000000</td>\n",
       "      <td>...</td>\n",
       "      <td>0.000000</td>\n",
       "      <td>10.460271</td>\n",
       "      <td>0.000000</td>\n",
       "      <td>0.000000</td>\n",
       "      <td>2.000000</td>\n",
       "      <td>0.000000</td>\n",
       "      <td>0.000000</td>\n",
       "      <td>1872.000000</td>\n",
       "      <td>1950.000000</td>\n",
       "      <td>0.000000</td>\n",
       "    </tr>\n",
       "    <tr>\n",
       "      <th>25%</th>\n",
       "      <td>876.000000</td>\n",
       "      <td>0.000000</td>\n",
       "      <td>0.000000</td>\n",
       "      <td>1.000000</td>\n",
       "      <td>2.000000</td>\n",
       "      <td>4.000000</td>\n",
       "      <td>2.000000</td>\n",
       "      <td>0.000000</td>\n",
       "      <td>0.000000</td>\n",
       "      <td>2.000000</td>\n",
       "      <td>...</td>\n",
       "      <td>3.000000</td>\n",
       "      <td>11.774720</td>\n",
       "      <td>0.000000</td>\n",
       "      <td>1.000000</td>\n",
       "      <td>5.000000</td>\n",
       "      <td>793.000000</td>\n",
       "      <td>0.000000</td>\n",
       "      <td>1953.000000</td>\n",
       "      <td>1965.000000</td>\n",
       "      <td>1.000000</td>\n",
       "    </tr>\n",
       "    <tr>\n",
       "      <th>50%</th>\n",
       "      <td>1082.000000</td>\n",
       "      <td>0.000000</td>\n",
       "      <td>0.000000</td>\n",
       "      <td>1.000000</td>\n",
       "      <td>3.000000</td>\n",
       "      <td>4.000000</td>\n",
       "      <td>3.000000</td>\n",
       "      <td>368.000000</td>\n",
       "      <td>0.000000</td>\n",
       "      <td>2.000000</td>\n",
       "      <td>...</td>\n",
       "      <td>3.000000</td>\n",
       "      <td>12.001512</td>\n",
       "      <td>0.000000</td>\n",
       "      <td>1.000000</td>\n",
       "      <td>6.000000</td>\n",
       "      <td>988.000000</td>\n",
       "      <td>0.000000</td>\n",
       "      <td>1973.000000</td>\n",
       "      <td>1993.000000</td>\n",
       "      <td>2.000000</td>\n",
       "    </tr>\n",
       "    <tr>\n",
       "      <th>75%</th>\n",
       "      <td>1384.000000</td>\n",
       "      <td>704.000000</td>\n",
       "      <td>0.000000</td>\n",
       "      <td>1.000000</td>\n",
       "      <td>3.000000</td>\n",
       "      <td>4.000000</td>\n",
       "      <td>3.000000</td>\n",
       "      <td>733.000000</td>\n",
       "      <td>0.000000</td>\n",
       "      <td>6.000000</td>\n",
       "      <td>...</td>\n",
       "      <td>3.000000</td>\n",
       "      <td>12.273736</td>\n",
       "      <td>0.000000</td>\n",
       "      <td>1.000000</td>\n",
       "      <td>7.000000</td>\n",
       "      <td>1302.000000</td>\n",
       "      <td>168.000000</td>\n",
       "      <td>2001.000000</td>\n",
       "      <td>2004.000000</td>\n",
       "      <td>3.000000</td>\n",
       "    </tr>\n",
       "    <tr>\n",
       "      <th>max</th>\n",
       "      <td>5095.000000</td>\n",
       "      <td>2065.000000</td>\n",
       "      <td>508.000000</td>\n",
       "      <td>2.000000</td>\n",
       "      <td>8.000000</td>\n",
       "      <td>4.000000</td>\n",
       "      <td>4.000000</td>\n",
       "      <td>4010.000000</td>\n",
       "      <td>1526.000000</td>\n",
       "      <td>6.000000</td>\n",
       "      <td>...</td>\n",
       "      <td>3.000000</td>\n",
       "      <td>13.534474</td>\n",
       "      <td>576.000000</td>\n",
       "      <td>1.000000</td>\n",
       "      <td>15.000000</td>\n",
       "      <td>5095.000000</td>\n",
       "      <td>1424.000000</td>\n",
       "      <td>2010.000000</td>\n",
       "      <td>2010.000000</td>\n",
       "      <td>4.000000</td>\n",
       "    </tr>\n",
       "  </tbody>\n",
       "</table>\n",
       "<p>8 rows × 59 columns</p>\n",
       "</div>"
      ],
      "text/plain": [
       "          1stFlrSF     2ndFlrSF    3SsnPorch        Alley  BedroomAbvGr  \\\n",
       "count  2917.000000  2917.000000  2917.000000  2917.000000   2917.000000   \n",
       "mean   1157.692492   335.861502     2.604045     0.985602      2.860130   \n",
       "std     385.264298   428.119663    25.196714     0.260180      0.822967   \n",
       "min     334.000000     0.000000     0.000000     0.000000      0.000000   \n",
       "25%     876.000000     0.000000     0.000000     1.000000      2.000000   \n",
       "50%    1082.000000     0.000000     0.000000     1.000000      3.000000   \n",
       "75%    1384.000000   704.000000     0.000000     1.000000      3.000000   \n",
       "max    5095.000000  2065.000000   508.000000     2.000000      8.000000   \n",
       "\n",
       "          BsmtCond  BsmtExposure   BsmtFinSF1   BsmtFinSF2  BsmtFinType1  \\\n",
       "count  2917.000000   2917.000000  2917.000000  2917.000000   2917.000000   \n",
       "mean      3.673980      2.328420   438.864930    49.599246      3.183750   \n",
       "std       0.977272      1.151038   444.180542   169.232130      2.235724   \n",
       "min       0.000000      0.000000     0.000000     0.000000      0.000000   \n",
       "25%       4.000000      2.000000     0.000000     0.000000      2.000000   \n",
       "50%       4.000000      3.000000   368.000000     0.000000      2.000000   \n",
       "75%       4.000000      3.000000   733.000000     0.000000      6.000000   \n",
       "max       4.000000      4.000000  4010.000000  1526.000000      6.000000   \n",
       "\n",
       "          ...            PoolQC    SalePrice  ScreenPorch       Street  \\\n",
       "count     ...       2917.000000  1458.000000  2917.000000  2917.000000   \n",
       "mean      ...          2.993486    12.024015    16.073363     0.995886   \n",
       "std       ...          0.126789     0.399713    56.202054     0.064018   \n",
       "min       ...          0.000000    10.460271     0.000000     0.000000   \n",
       "25%       ...          3.000000    11.774720     0.000000     1.000000   \n",
       "50%       ...          3.000000    12.001512     0.000000     1.000000   \n",
       "75%       ...          3.000000    12.273736     0.000000     1.000000   \n",
       "max       ...          3.000000    13.534474   576.000000     1.000000   \n",
       "\n",
       "       TotRmsAbvGrd  TotalBsmtSF   WoodDeckSF    YearBuilt  YearRemodAdd  \\\n",
       "count   2917.000000  2917.000000  2917.000000  2917.000000   2917.000000   \n",
       "mean       6.448063  1048.967775    93.629414  1971.287967   1984.248200   \n",
       "std        1.564281   429.472008   126.532643    30.286991     20.892257   \n",
       "min        2.000000     0.000000     0.000000  1872.000000   1950.000000   \n",
       "25%        5.000000   793.000000     0.000000  1953.000000   1965.000000   \n",
       "50%        6.000000   988.000000     0.000000  1973.000000   1993.000000   \n",
       "75%        7.000000  1302.000000   168.000000  2001.000000   2004.000000   \n",
       "max       15.000000  5095.000000  1424.000000  2010.000000   2010.000000   \n",
       "\n",
       "            YrSold  \n",
       "count  2917.000000  \n",
       "mean      1.792938  \n",
       "std       1.315328  \n",
       "min       0.000000  \n",
       "25%       1.000000  \n",
       "50%       2.000000  \n",
       "75%       3.000000  \n",
       "max       4.000000  \n",
       "\n",
       "[8 rows x 59 columns]"
      ]
     },
     "execution_count": 168,
     "metadata": {},
     "output_type": "execute_result"
    }
   ],
   "source": [
    "df.describe()"
   ]
  },
  {
   "cell_type": "markdown",
   "metadata": {},
   "source": [
    "Looking at the min and max of each variable there are some errors in the data.\n",
    "\n",
    "GarageYrBlt - the max value is 2207, this is obviously wrong since the data is only until 2010.\n",
    "The rest of the data looks fine. Let's inspect this row a bit more carefully and impute an approximate correct value."
   ]
  },
  {
   "cell_type": "code",
   "execution_count": 169,
   "metadata": {},
   "outputs": [
    {
     "data": {
      "text/html": [
       "<div>\n",
       "<style scoped>\n",
       "    .dataframe tbody tr th:only-of-type {\n",
       "        vertical-align: middle;\n",
       "    }\n",
       "\n",
       "    .dataframe tbody tr th {\n",
       "        vertical-align: top;\n",
       "    }\n",
       "\n",
       "    .dataframe thead th {\n",
       "        text-align: right;\n",
       "    }\n",
       "</style>\n",
       "<table border=\"1\" class=\"dataframe\">\n",
       "  <thead>\n",
       "    <tr style=\"text-align: right;\">\n",
       "      <th></th>\n",
       "      <th>1stFlrSF</th>\n",
       "      <th>2ndFlrSF</th>\n",
       "      <th>3SsnPorch</th>\n",
       "      <th>Alley</th>\n",
       "      <th>BedroomAbvGr</th>\n",
       "      <th>BldgType</th>\n",
       "      <th>BsmtCond</th>\n",
       "      <th>BsmtExposure</th>\n",
       "      <th>BsmtFinSF1</th>\n",
       "      <th>BsmtFinSF2</th>\n",
       "      <th>...</th>\n",
       "      <th>SalePrice</th>\n",
       "      <th>SaleType</th>\n",
       "      <th>ScreenPorch</th>\n",
       "      <th>Street</th>\n",
       "      <th>TotRmsAbvGrd</th>\n",
       "      <th>TotalBsmtSF</th>\n",
       "      <th>WoodDeckSF</th>\n",
       "      <th>YearBuilt</th>\n",
       "      <th>YearRemodAdd</th>\n",
       "      <th>YrSold</th>\n",
       "    </tr>\n",
       "  </thead>\n",
       "  <tbody>\n",
       "    <tr>\n",
       "      <th>2592</th>\n",
       "      <td>1564</td>\n",
       "      <td>0</td>\n",
       "      <td>0</td>\n",
       "      <td>1</td>\n",
       "      <td>2</td>\n",
       "      <td>1Fam</td>\n",
       "      <td>4</td>\n",
       "      <td>0</td>\n",
       "      <td>583.0</td>\n",
       "      <td>0.0</td>\n",
       "      <td>...</td>\n",
       "      <td>NaN</td>\n",
       "      <td>New</td>\n",
       "      <td>0</td>\n",
       "      <td>1</td>\n",
       "      <td>6</td>\n",
       "      <td>1546.0</td>\n",
       "      <td>132</td>\n",
       "      <td>2006</td>\n",
       "      <td>2007</td>\n",
       "      <td>1</td>\n",
       "    </tr>\n",
       "  </tbody>\n",
       "</table>\n",
       "<p>1 rows × 79 columns</p>\n",
       "</div>"
      ],
      "text/plain": [
       "      1stFlrSF  2ndFlrSF  3SsnPorch  Alley  BedroomAbvGr BldgType  BsmtCond  \\\n",
       "2592      1564         0          0      1             2     1Fam         4   \n",
       "\n",
       "      BsmtExposure  BsmtFinSF1  BsmtFinSF2  ...    SalePrice  SaleType  \\\n",
       "2592             0       583.0         0.0  ...          NaN       New   \n",
       "\n",
       "      ScreenPorch  Street  TotRmsAbvGrd  TotalBsmtSF  WoodDeckSF YearBuilt  \\\n",
       "2592            0       1             6       1546.0         132      2006   \n",
       "\n",
       "     YearRemodAdd YrSold  \n",
       "2592         2007      1  \n",
       "\n",
       "[1 rows x 79 columns]"
      ]
     },
     "execution_count": 169,
     "metadata": {},
     "output_type": "execute_result"
    }
   ],
   "source": [
    "df[df['GarageYrBlt'] == 2207]"
   ]
  },
  {
   "cell_type": "markdown",
   "metadata": {},
   "source": [
    "This particular datapoint has YearBuilt in 2006 and YearRemodAdd in 2007. 2207 most likely is a data input error that should have been 2007 when the remodel happened. Let's impute 2007."
   ]
  },
  {
   "cell_type": "code",
   "execution_count": 170,
   "metadata": {
    "collapsed": true
   },
   "outputs": [],
   "source": [
    "df.loc[2592, 'GarageYrBlt'] = 2007"
   ]
  },
  {
   "cell_type": "markdown",
   "metadata": {},
   "source": [
    "## 5.4 Skew transformation features\n",
    "Let's check skew in our features and transform if necessary."
   ]
  },
  {
   "cell_type": "code",
   "execution_count": 171,
   "metadata": {},
   "outputs": [
    {
     "data": {
      "text/html": [
       "<div>\n",
       "<style scoped>\n",
       "    .dataframe tbody tr th:only-of-type {\n",
       "        vertical-align: middle;\n",
       "    }\n",
       "\n",
       "    .dataframe tbody tr th {\n",
       "        vertical-align: top;\n",
       "    }\n",
       "\n",
       "    .dataframe thead th {\n",
       "        text-align: right;\n",
       "    }\n",
       "</style>\n",
       "<table border=\"1\" class=\"dataframe\">\n",
       "  <thead>\n",
       "    <tr style=\"text-align: right;\">\n",
       "      <th></th>\n",
       "      <th>skew</th>\n",
       "    </tr>\n",
       "  </thead>\n",
       "  <tbody>\n",
       "    <tr>\n",
       "      <th>MiscVal</th>\n",
       "      <td>21.939672</td>\n",
       "    </tr>\n",
       "    <tr>\n",
       "      <th>PoolArea</th>\n",
       "      <td>17.688664</td>\n",
       "    </tr>\n",
       "    <tr>\n",
       "      <th>LotArea</th>\n",
       "      <td>13.109495</td>\n",
       "    </tr>\n",
       "    <tr>\n",
       "      <th>LowQualFinSF</th>\n",
       "      <td>12.084539</td>\n",
       "    </tr>\n",
       "    <tr>\n",
       "      <th>3SsnPorch</th>\n",
       "      <td>11.372080</td>\n",
       "    </tr>\n",
       "    <tr>\n",
       "      <th>LandSlope</th>\n",
       "      <td>4.973254</td>\n",
       "    </tr>\n",
       "    <tr>\n",
       "      <th>KitchenAbvGr</th>\n",
       "      <td>4.300550</td>\n",
       "    </tr>\n",
       "    <tr>\n",
       "      <th>BsmtFinSF2</th>\n",
       "      <td>4.144503</td>\n",
       "    </tr>\n",
       "    <tr>\n",
       "      <th>EnclosedPorch</th>\n",
       "      <td>4.002344</td>\n",
       "    </tr>\n",
       "    <tr>\n",
       "      <th>ScreenPorch</th>\n",
       "      <td>3.945101</td>\n",
       "    </tr>\n",
       "    <tr>\n",
       "      <th>BsmtHalfBath</th>\n",
       "      <td>3.929996</td>\n",
       "    </tr>\n",
       "    <tr>\n",
       "      <th>MasVnrArea</th>\n",
       "      <td>2.621719</td>\n",
       "    </tr>\n",
       "    <tr>\n",
       "      <th>OpenPorchSF</th>\n",
       "      <td>2.529358</td>\n",
       "    </tr>\n",
       "    <tr>\n",
       "      <th>WoodDeckSF</th>\n",
       "      <td>1.844792</td>\n",
       "    </tr>\n",
       "    <tr>\n",
       "      <th>1stFlrSF</th>\n",
       "      <td>1.257286</td>\n",
       "    </tr>\n",
       "    <tr>\n",
       "      <th>LotFrontage</th>\n",
       "      <td>1.103039</td>\n",
       "    </tr>\n",
       "    <tr>\n",
       "      <th>GrLivArea</th>\n",
       "      <td>1.068750</td>\n",
       "    </tr>\n",
       "    <tr>\n",
       "      <th>BsmtFinSF1</th>\n",
       "      <td>0.980645</td>\n",
       "    </tr>\n",
       "    <tr>\n",
       "      <th>BsmtUnfSF</th>\n",
       "      <td>0.919688</td>\n",
       "    </tr>\n",
       "    <tr>\n",
       "      <th>2ndFlrSF</th>\n",
       "      <td>0.861556</td>\n",
       "    </tr>\n",
       "    <tr>\n",
       "      <th>TotRmsAbvGrd</th>\n",
       "      <td>0.749232</td>\n",
       "    </tr>\n",
       "    <tr>\n",
       "      <th>Fireplaces</th>\n",
       "      <td>0.725278</td>\n",
       "    </tr>\n",
       "    <tr>\n",
       "      <th>HalfBath</th>\n",
       "      <td>0.696666</td>\n",
       "    </tr>\n",
       "    <tr>\n",
       "      <th>TotalBsmtSF</th>\n",
       "      <td>0.671751</td>\n",
       "    </tr>\n",
       "    <tr>\n",
       "      <th>BsmtFullBath</th>\n",
       "      <td>0.622415</td>\n",
       "    </tr>\n",
       "    <tr>\n",
       "      <th>OverallCond</th>\n",
       "      <td>0.569314</td>\n",
       "    </tr>\n",
       "    <tr>\n",
       "      <th>HeatingQC</th>\n",
       "      <td>0.485534</td>\n",
       "    </tr>\n",
       "    <tr>\n",
       "      <th>FireplaceQu</th>\n",
       "      <td>0.332611</td>\n",
       "    </tr>\n",
       "    <tr>\n",
       "      <th>BedroomAbvGr</th>\n",
       "      <td>0.326568</td>\n",
       "    </tr>\n",
       "    <tr>\n",
       "      <th>GarageArea</th>\n",
       "      <td>0.216247</td>\n",
       "    </tr>\n",
       "    <tr>\n",
       "      <th>OverallQual</th>\n",
       "      <td>0.189591</td>\n",
       "    </tr>\n",
       "    <tr>\n",
       "      <th>FullBath</th>\n",
       "      <td>0.165514</td>\n",
       "    </tr>\n",
       "    <tr>\n",
       "      <th>MSSubClass</th>\n",
       "      <td>0.139709</td>\n",
       "    </tr>\n",
       "    <tr>\n",
       "      <th>YrSold</th>\n",
       "      <td>0.131996</td>\n",
       "    </tr>\n",
       "    <tr>\n",
       "      <th>BsmtFinType1</th>\n",
       "      <td>0.083641</td>\n",
       "    </tr>\n",
       "    <tr>\n",
       "      <th>GarageCars</th>\n",
       "      <td>-0.220393</td>\n",
       "    </tr>\n",
       "    <tr>\n",
       "      <th>YearRemodAdd</th>\n",
       "      <td>-0.450134</td>\n",
       "    </tr>\n",
       "    <tr>\n",
       "      <th>BsmtQual</th>\n",
       "      <td>-0.488362</td>\n",
       "    </tr>\n",
       "    <tr>\n",
       "      <th>YearBuilt</th>\n",
       "      <td>-0.599194</td>\n",
       "    </tr>\n",
       "    <tr>\n",
       "      <th>GarageFinish</th>\n",
       "      <td>-0.608763</td>\n",
       "    </tr>\n",
       "    <tr>\n",
       "      <th>LotShape</th>\n",
       "      <td>-0.618564</td>\n",
       "    </tr>\n",
       "    <tr>\n",
       "      <th>MoSold</th>\n",
       "      <td>-0.646173</td>\n",
       "    </tr>\n",
       "    <tr>\n",
       "      <th>Alley</th>\n",
       "      <td>-0.651705</td>\n",
       "    </tr>\n",
       "    <tr>\n",
       "      <th>GarageYrBlt</th>\n",
       "      <td>-0.690152</td>\n",
       "    </tr>\n",
       "    <tr>\n",
       "      <th>BsmtExposure</th>\n",
       "      <td>-1.117321</td>\n",
       "    </tr>\n",
       "    <tr>\n",
       "      <th>KitchenQual</th>\n",
       "      <td>-1.449814</td>\n",
       "    </tr>\n",
       "    <tr>\n",
       "      <th>ExterQual</th>\n",
       "      <td>-1.800062</td>\n",
       "    </tr>\n",
       "    <tr>\n",
       "      <th>Fence</th>\n",
       "      <td>-1.992649</td>\n",
       "    </tr>\n",
       "    <tr>\n",
       "      <th>ExterCond</th>\n",
       "      <td>-2.496489</td>\n",
       "    </tr>\n",
       "    <tr>\n",
       "      <th>BsmtCond</th>\n",
       "      <td>-2.861271</td>\n",
       "    </tr>\n",
       "    <tr>\n",
       "      <th>PavedDrive</th>\n",
       "      <td>-2.977741</td>\n",
       "    </tr>\n",
       "    <tr>\n",
       "      <th>BsmtFinType2</th>\n",
       "      <td>-3.046085</td>\n",
       "    </tr>\n",
       "    <tr>\n",
       "      <th>GarageQual</th>\n",
       "      <td>-3.067744</td>\n",
       "    </tr>\n",
       "    <tr>\n",
       "      <th>CentralAir</th>\n",
       "      <td>-3.457555</td>\n",
       "    </tr>\n",
       "    <tr>\n",
       "      <th>GarageCond</th>\n",
       "      <td>-3.596839</td>\n",
       "    </tr>\n",
       "    <tr>\n",
       "      <th>Functional</th>\n",
       "      <td>-4.054126</td>\n",
       "    </tr>\n",
       "    <tr>\n",
       "      <th>Street</th>\n",
       "      <td>-15.494756</td>\n",
       "    </tr>\n",
       "    <tr>\n",
       "      <th>PoolQC</th>\n",
       "      <td>-21.217600</td>\n",
       "    </tr>\n",
       "    <tr>\n",
       "      <th>SalePrice</th>\n",
       "      <td>NaN</td>\n",
       "    </tr>\n",
       "  </tbody>\n",
       "</table>\n",
       "</div>"
      ],
      "text/plain": [
       "                    skew\n",
       "MiscVal        21.939672\n",
       "PoolArea       17.688664\n",
       "LotArea        13.109495\n",
       "LowQualFinSF   12.084539\n",
       "3SsnPorch      11.372080\n",
       "LandSlope       4.973254\n",
       "KitchenAbvGr    4.300550\n",
       "BsmtFinSF2      4.144503\n",
       "EnclosedPorch   4.002344\n",
       "ScreenPorch     3.945101\n",
       "BsmtHalfBath    3.929996\n",
       "MasVnrArea      2.621719\n",
       "OpenPorchSF     2.529358\n",
       "WoodDeckSF      1.844792\n",
       "1stFlrSF        1.257286\n",
       "LotFrontage     1.103039\n",
       "GrLivArea       1.068750\n",
       "BsmtFinSF1      0.980645\n",
       "BsmtUnfSF       0.919688\n",
       "2ndFlrSF        0.861556\n",
       "TotRmsAbvGrd    0.749232\n",
       "Fireplaces      0.725278\n",
       "HalfBath        0.696666\n",
       "TotalBsmtSF     0.671751\n",
       "BsmtFullBath    0.622415\n",
       "OverallCond     0.569314\n",
       "HeatingQC       0.485534\n",
       "FireplaceQu     0.332611\n",
       "BedroomAbvGr    0.326568\n",
       "GarageArea      0.216247\n",
       "OverallQual     0.189591\n",
       "FullBath        0.165514\n",
       "MSSubClass      0.139709\n",
       "YrSold          0.131996\n",
       "BsmtFinType1    0.083641\n",
       "GarageCars     -0.220393\n",
       "YearRemodAdd   -0.450134\n",
       "BsmtQual       -0.488362\n",
       "YearBuilt      -0.599194\n",
       "GarageFinish   -0.608763\n",
       "LotShape       -0.618564\n",
       "MoSold         -0.646173\n",
       "Alley          -0.651705\n",
       "GarageYrBlt    -0.690152\n",
       "BsmtExposure   -1.117321\n",
       "KitchenQual    -1.449814\n",
       "ExterQual      -1.800062\n",
       "Fence          -1.992649\n",
       "ExterCond      -2.496489\n",
       "BsmtCond       -2.861271\n",
       "PavedDrive     -2.977741\n",
       "BsmtFinType2   -3.046085\n",
       "GarageQual     -3.067744\n",
       "CentralAir     -3.457555\n",
       "GarageCond     -3.596839\n",
       "Functional     -4.054126\n",
       "Street        -15.494756\n",
       "PoolQC        -21.217600\n",
       "SalePrice            NaN"
      ]
     },
     "execution_count": 171,
     "metadata": {},
     "output_type": "execute_result"
    }
   ],
   "source": [
    "num_dtypes = ['int16', 'int32', 'int64', 'float16', 'float32', 'float64']\n",
    "num2 = []\n",
    "for i in df.columns:\n",
    "    if df[i].dtype in num_dtypes: \n",
    "        num2.append(i)\n",
    "\n",
    "skew_col = df[num2].apply(lambda x: skew(x)).sort_values(ascending=False)\n",
    "skews = pd.DataFrame({'skew':skew_col})\n",
    "skews"
   ]
  },
  {
   "cell_type": "markdown",
   "metadata": {},
   "source": [
    "I use the scipy function boxcox1p which computes the Box-Cox transformation. Note that still we have skews in our features."
   ]
  },
  {
   "cell_type": "code",
   "execution_count": 172,
   "metadata": {},
   "outputs": [
    {
     "data": {
      "text/html": [
       "<div>\n",
       "<style scoped>\n",
       "    .dataframe tbody tr th:only-of-type {\n",
       "        vertical-align: middle;\n",
       "    }\n",
       "\n",
       "    .dataframe tbody tr th {\n",
       "        vertical-align: top;\n",
       "    }\n",
       "\n",
       "    .dataframe thead th {\n",
       "        text-align: right;\n",
       "    }\n",
       "</style>\n",
       "<table border=\"1\" class=\"dataframe\">\n",
       "  <thead>\n",
       "    <tr style=\"text-align: right;\">\n",
       "      <th></th>\n",
       "      <th>skew</th>\n",
       "    </tr>\n",
       "  </thead>\n",
       "  <tbody>\n",
       "    <tr>\n",
       "      <th>PoolArea</th>\n",
       "      <td>15.595057</td>\n",
       "    </tr>\n",
       "    <tr>\n",
       "      <th>3SsnPorch</th>\n",
       "      <td>8.862045</td>\n",
       "    </tr>\n",
       "    <tr>\n",
       "      <th>LowQualFinSF</th>\n",
       "      <td>8.492615</td>\n",
       "    </tr>\n",
       "    <tr>\n",
       "      <th>MiscVal</th>\n",
       "      <td>5.237983</td>\n",
       "    </tr>\n",
       "    <tr>\n",
       "      <th>LandSlope</th>\n",
       "      <td>4.349145</td>\n",
       "    </tr>\n",
       "    <tr>\n",
       "      <th>BsmtHalfBath</th>\n",
       "      <td>3.779434</td>\n",
       "    </tr>\n",
       "    <tr>\n",
       "      <th>KitchenAbvGr</th>\n",
       "      <td>3.778336</td>\n",
       "    </tr>\n",
       "    <tr>\n",
       "      <th>ScreenPorch</th>\n",
       "      <td>3.152631</td>\n",
       "    </tr>\n",
       "    <tr>\n",
       "      <th>BsmtFinSF2</th>\n",
       "      <td>2.578329</td>\n",
       "    </tr>\n",
       "    <tr>\n",
       "      <th>EnclosedPorch</th>\n",
       "      <td>2.149133</td>\n",
       "    </tr>\n",
       "    <tr>\n",
       "      <th>MasVnrArea</th>\n",
       "      <td>0.977618</td>\n",
       "    </tr>\n",
       "    <tr>\n",
       "      <th>2ndFlrSF</th>\n",
       "      <td>0.895453</td>\n",
       "    </tr>\n",
       "    <tr>\n",
       "      <th>WoodDeckSF</th>\n",
       "      <td>0.785550</td>\n",
       "    </tr>\n",
       "    <tr>\n",
       "      <th>HalfBath</th>\n",
       "      <td>0.732625</td>\n",
       "    </tr>\n",
       "    <tr>\n",
       "      <th>OpenPorchSF</th>\n",
       "      <td>0.621231</td>\n",
       "    </tr>\n",
       "    <tr>\n",
       "      <th>BsmtFullBath</th>\n",
       "      <td>0.616643</td>\n",
       "    </tr>\n",
       "    <tr>\n",
       "      <th>Fireplaces</th>\n",
       "      <td>0.553135</td>\n",
       "    </tr>\n",
       "    <tr>\n",
       "      <th>HeatingQC</th>\n",
       "      <td>0.485534</td>\n",
       "    </tr>\n",
       "    <tr>\n",
       "      <th>OverallCond</th>\n",
       "      <td>0.405731</td>\n",
       "    </tr>\n",
       "    <tr>\n",
       "      <th>BsmtFinSF1</th>\n",
       "      <td>0.365986</td>\n",
       "    </tr>\n",
       "    <tr>\n",
       "      <th>FireplaceQu</th>\n",
       "      <td>0.332611</td>\n",
       "    </tr>\n",
       "    <tr>\n",
       "      <th>BedroomAbvGr</th>\n",
       "      <td>0.326568</td>\n",
       "    </tr>\n",
       "    <tr>\n",
       "      <th>TotalBsmtSF</th>\n",
       "      <td>0.297009</td>\n",
       "    </tr>\n",
       "    <tr>\n",
       "      <th>GarageArea</th>\n",
       "      <td>0.216247</td>\n",
       "    </tr>\n",
       "    <tr>\n",
       "      <th>OverallQual</th>\n",
       "      <td>0.189591</td>\n",
       "    </tr>\n",
       "    <tr>\n",
       "      <th>FullBath</th>\n",
       "      <td>0.165514</td>\n",
       "    </tr>\n",
       "    <tr>\n",
       "      <th>MSSubClass</th>\n",
       "      <td>0.139709</td>\n",
       "    </tr>\n",
       "    <tr>\n",
       "      <th>YrSold</th>\n",
       "      <td>0.131996</td>\n",
       "    </tr>\n",
       "    <tr>\n",
       "      <th>BsmtFinType1</th>\n",
       "      <td>0.083641</td>\n",
       "    </tr>\n",
       "    <tr>\n",
       "      <th>LotFrontage</th>\n",
       "      <td>0.059189</td>\n",
       "    </tr>\n",
       "    <tr>\n",
       "      <th>BsmtUnfSF</th>\n",
       "      <td>0.054195</td>\n",
       "    </tr>\n",
       "    <tr>\n",
       "      <th>TotRmsAbvGrd</th>\n",
       "      <td>0.047190</td>\n",
       "    </tr>\n",
       "    <tr>\n",
       "      <th>GrLivArea</th>\n",
       "      <td>0.008823</td>\n",
       "    </tr>\n",
       "    <tr>\n",
       "      <th>1stFlrSF</th>\n",
       "      <td>-0.007822</td>\n",
       "    </tr>\n",
       "    <tr>\n",
       "      <th>LotArea</th>\n",
       "      <td>-0.138117</td>\n",
       "    </tr>\n",
       "    <tr>\n",
       "      <th>GarageCars</th>\n",
       "      <td>-0.220393</td>\n",
       "    </tr>\n",
       "    <tr>\n",
       "      <th>YearRemodAdd</th>\n",
       "      <td>-0.450134</td>\n",
       "    </tr>\n",
       "    <tr>\n",
       "      <th>BsmtQual</th>\n",
       "      <td>-0.488362</td>\n",
       "    </tr>\n",
       "    <tr>\n",
       "      <th>YearBuilt</th>\n",
       "      <td>-0.599194</td>\n",
       "    </tr>\n",
       "    <tr>\n",
       "      <th>GarageFinish</th>\n",
       "      <td>-0.608763</td>\n",
       "    </tr>\n",
       "    <tr>\n",
       "      <th>LotShape</th>\n",
       "      <td>-0.618564</td>\n",
       "    </tr>\n",
       "    <tr>\n",
       "      <th>MoSold</th>\n",
       "      <td>-0.646173</td>\n",
       "    </tr>\n",
       "    <tr>\n",
       "      <th>Alley</th>\n",
       "      <td>-0.651705</td>\n",
       "    </tr>\n",
       "    <tr>\n",
       "      <th>GarageYrBlt</th>\n",
       "      <td>-0.690152</td>\n",
       "    </tr>\n",
       "    <tr>\n",
       "      <th>BsmtExposure</th>\n",
       "      <td>-1.117321</td>\n",
       "    </tr>\n",
       "    <tr>\n",
       "      <th>KitchenQual</th>\n",
       "      <td>-1.449814</td>\n",
       "    </tr>\n",
       "    <tr>\n",
       "      <th>ExterQual</th>\n",
       "      <td>-1.800062</td>\n",
       "    </tr>\n",
       "    <tr>\n",
       "      <th>Fence</th>\n",
       "      <td>-1.992649</td>\n",
       "    </tr>\n",
       "    <tr>\n",
       "      <th>ExterCond</th>\n",
       "      <td>-2.496489</td>\n",
       "    </tr>\n",
       "    <tr>\n",
       "      <th>BsmtCond</th>\n",
       "      <td>-2.861271</td>\n",
       "    </tr>\n",
       "    <tr>\n",
       "      <th>PavedDrive</th>\n",
       "      <td>-2.977741</td>\n",
       "    </tr>\n",
       "    <tr>\n",
       "      <th>BsmtFinType2</th>\n",
       "      <td>-3.046085</td>\n",
       "    </tr>\n",
       "    <tr>\n",
       "      <th>GarageQual</th>\n",
       "      <td>-3.067744</td>\n",
       "    </tr>\n",
       "    <tr>\n",
       "      <th>CentralAir</th>\n",
       "      <td>-3.457555</td>\n",
       "    </tr>\n",
       "    <tr>\n",
       "      <th>GarageCond</th>\n",
       "      <td>-3.596839</td>\n",
       "    </tr>\n",
       "    <tr>\n",
       "      <th>Functional</th>\n",
       "      <td>-4.054126</td>\n",
       "    </tr>\n",
       "    <tr>\n",
       "      <th>Street</th>\n",
       "      <td>-15.494756</td>\n",
       "    </tr>\n",
       "    <tr>\n",
       "      <th>PoolQC</th>\n",
       "      <td>-21.217600</td>\n",
       "    </tr>\n",
       "    <tr>\n",
       "      <th>SalePrice</th>\n",
       "      <td>NaN</td>\n",
       "    </tr>\n",
       "  </tbody>\n",
       "</table>\n",
       "</div>"
      ],
      "text/plain": [
       "                    skew\n",
       "PoolArea       15.595057\n",
       "3SsnPorch       8.862045\n",
       "LowQualFinSF    8.492615\n",
       "MiscVal         5.237983\n",
       "LandSlope       4.349145\n",
       "BsmtHalfBath    3.779434\n",
       "KitchenAbvGr    3.778336\n",
       "ScreenPorch     3.152631\n",
       "BsmtFinSF2      2.578329\n",
       "EnclosedPorch   2.149133\n",
       "MasVnrArea      0.977618\n",
       "2ndFlrSF        0.895453\n",
       "WoodDeckSF      0.785550\n",
       "HalfBath        0.732625\n",
       "OpenPorchSF     0.621231\n",
       "BsmtFullBath    0.616643\n",
       "Fireplaces      0.553135\n",
       "HeatingQC       0.485534\n",
       "OverallCond     0.405731\n",
       "BsmtFinSF1      0.365986\n",
       "FireplaceQu     0.332611\n",
       "BedroomAbvGr    0.326568\n",
       "TotalBsmtSF     0.297009\n",
       "GarageArea      0.216247\n",
       "OverallQual     0.189591\n",
       "FullBath        0.165514\n",
       "MSSubClass      0.139709\n",
       "YrSold          0.131996\n",
       "BsmtFinType1    0.083641\n",
       "LotFrontage     0.059189\n",
       "BsmtUnfSF       0.054195\n",
       "TotRmsAbvGrd    0.047190\n",
       "GrLivArea       0.008823\n",
       "1stFlrSF       -0.007822\n",
       "LotArea        -0.138117\n",
       "GarageCars     -0.220393\n",
       "YearRemodAdd   -0.450134\n",
       "BsmtQual       -0.488362\n",
       "YearBuilt      -0.599194\n",
       "GarageFinish   -0.608763\n",
       "LotShape       -0.618564\n",
       "MoSold         -0.646173\n",
       "Alley          -0.651705\n",
       "GarageYrBlt    -0.690152\n",
       "BsmtExposure   -1.117321\n",
       "KitchenQual    -1.449814\n",
       "ExterQual      -1.800062\n",
       "Fence          -1.992649\n",
       "ExterCond      -2.496489\n",
       "BsmtCond       -2.861271\n",
       "PavedDrive     -2.977741\n",
       "BsmtFinType2   -3.046085\n",
       "GarageQual     -3.067744\n",
       "CentralAir     -3.457555\n",
       "GarageCond     -3.596839\n",
       "Functional     -4.054126\n",
       "Street        -15.494756\n",
       "PoolQC        -21.217600\n",
       "SalePrice            NaN"
      ]
     },
     "execution_count": 172,
     "metadata": {},
     "output_type": "execute_result"
    }
   ],
   "source": [
    "from scipy.special import boxcox1p\n",
    "from scipy.stats import boxcox_normmax\n",
    "\n",
    "high_skew = skew_col[skew_col > 0.5]\n",
    "high_skew = high_skew\n",
    "skew_index = high_skew.index\n",
    "\n",
    "for i in skew_index:\n",
    "    df[i]= boxcox1p(df[i], boxcox_normmax(df[i]+1))\n",
    "\n",
    "        \n",
    "skew_col2 = df[num2].apply(lambda x: skew(x)).sort_values(ascending=False)\n",
    "skews2 = pd.DataFrame({'skew':skew_col2})\n",
    "skews2"
   ]
  },
  {
   "cell_type": "markdown",
   "metadata": {},
   "source": [
    "## 5.5 Creating new features"
   ]
  },
  {
   "cell_type": "markdown",
   "metadata": {},
   "source": [
    "**Bathroom**                    \n",
    "one combined variable is the bathrooms in the house. I count fullbath for 1 and halfbath for 0.5.\n",
    "\n",
    "FullBath           \n",
    "HalfBath             \n",
    "BsmtFullBath            \n",
    "BsmtHalfBath            "
   ]
  },
  {
   "cell_type": "code",
   "execution_count": 173,
   "metadata": {
    "collapsed": true
   },
   "outputs": [],
   "source": [
    "df['Total_Bathrooms'] = (df['FullBath'] + (0.5*df['HalfBath']) + df['BsmtFullBath'] + (0.5*df['BsmtHalfBath']))\n"
   ]
  },
  {
   "cell_type": "markdown",
   "metadata": {},
   "source": [
    "**Total square footage**"
   ]
  },
  {
   "cell_type": "code",
   "execution_count": 174,
   "metadata": {
    "collapsed": true
   },
   "outputs": [],
   "source": [
    "df['Total_sqr_footage'] = (df['BsmtFinSF1'] + df['BsmtFinSF2'] +df['1stFlrSF'] + df['2ndFlrSF'])\n"
   ]
  },
  {
   "cell_type": "markdown",
   "metadata": {},
   "source": [
    "**Total porch size**"
   ]
  },
  {
   "cell_type": "code",
   "execution_count": 175,
   "metadata": {
    "collapsed": true
   },
   "outputs": [],
   "source": [
    "df['Total_porch_sf'] = (df['OpenPorchSF'] + df['3SsnPorch'] +df['EnclosedPorch'] + df['ScreenPorch'] +df['WoodDeckSF'])"
   ]
  },
  {
   "cell_type": "code",
   "execution_count": 192,
   "metadata": {
    "collapsed": true
   },
   "outputs": [],
   "source": [
    "y_train=df['SalePrice'][:1458]\n"
   ]
  },
  {
   "cell_type": "code",
   "execution_count": 195,
   "metadata": {
    "collapsed": true
   },
   "outputs": [],
   "source": [
    "df.drop(['SalePrice'], axis=1, inplace=True)"
   ]
  },
  {
   "cell_type": "code",
   "execution_count": 196,
   "metadata": {
    "collapsed": true
   },
   "outputs": [],
   "source": [
    "df=pd.get_dummies(df)"
   ]
  },
  {
   "cell_type": "code",
   "execution_count": 197,
   "metadata": {},
   "outputs": [
    {
     "data": {
      "text/plain": [
       "(2917, 222)"
      ]
     },
     "execution_count": 197,
     "metadata": {},
     "output_type": "execute_result"
    }
   ],
   "source": [
    "df.shape"
   ]
  },
  {
   "cell_type": "code",
   "execution_count": 198,
   "metadata": {
    "collapsed": true
   },
   "outputs": [],
   "source": [
    "train=df[:ntrain-2]\n",
    "test=df[ntrain-2:]"
   ]
  },
  {
   "cell_type": "markdown",
   "metadata": {},
   "source": [
    "## 6. Modeling\n",
    "\n",
    "### 6.1 Imorting libraries"
   ]
  },
  {
   "cell_type": "code",
   "execution_count": 231,
   "metadata": {
    "collapsed": true
   },
   "outputs": [],
   "source": [
    "from sklearn.linear_model import ElasticNet, Lasso,  BayesianRidge, LassoLarsIC\n",
    "from sklearn.ensemble import RandomForestRegressor,  GradientBoostingRegressor\n",
    "from sklearn.kernel_ridge import KernelRidge\n",
    "from sklearn.pipeline import make_pipeline\n",
    "from sklearn.preprocessing import RobustScaler\n",
    "from sklearn.base import BaseEstimator, TransformerMixin, RegressorMixin, clone\n",
    "from sklearn.model_selection import KFold, cross_val_score, train_test_split\n",
    "from sklearn.metrics import mean_squared_error\n",
    "import xgboost as xgb\n",
    "import lightgbm as lgb\n",
    "#from sklearn import l as lgb"
   ]
  },
  {
   "cell_type": "markdown",
   "metadata": {},
   "source": [
    "### 6.2 Define a cross validation function\n",
    "\n",
    "I am going to use the cross_val_score function of Sklearn. However this function has not a shuffle attribut, I add then one line of code, in order to shuffle the dataset prior to cross-validation."
   ]
  },
  {
   "cell_type": "code",
   "execution_count": 232,
   "metadata": {
    "collapsed": true
   },
   "outputs": [],
   "source": [
    "n_folds = 5\n",
    "\n",
    "def rmsle_cv(model):\n",
    "    kf = KFold(n_folds, shuffle=True, random_state=42).get_n_splits(train.values)\n",
    "    rmse= np.sqrt(-cross_val_score(model, train.values, y_train, scoring=\"neg_mean_squared_error\", cv = kf))\n",
    "    return(rmse)"
   ]
  },
  {
   "cell_type": "markdown",
   "metadata": {},
   "source": [
    "### 6.3 Base models         \n",
    "\n",
    "**LASSO Regression :**        \n",
    "Here, I use the sklearn's Robustscaler() method on pipeline since this model is sensetive to outliers."
   ]
  },
  {
   "cell_type": "code",
   "execution_count": 233,
   "metadata": {
    "collapsed": true
   },
   "outputs": [],
   "source": [
    "lasso = make_pipeline(RobustScaler(), Lasso(alpha =0.0005, random_state=5))"
   ]
  },
  {
   "cell_type": "markdown",
   "metadata": {},
   "source": [
    "**Elastic Net Regression**: "
   ]
  },
  {
   "cell_type": "code",
   "execution_count": 202,
   "metadata": {
    "collapsed": true
   },
   "outputs": [],
   "source": [
    "ENet = make_pipeline(RobustScaler(), ElasticNet(alpha=0.0005, l1_ratio=.9, random_state=3))"
   ]
  },
  {
   "cell_type": "markdown",
   "metadata": {},
   "source": [
    "**Kernel Ridge Regression :**"
   ]
  },
  {
   "cell_type": "code",
   "execution_count": 203,
   "metadata": {
    "collapsed": true
   },
   "outputs": [],
   "source": [
    "KRR = KernelRidge(alpha=0.6, kernel='polynomial', degree=2, coef0=2.5)\n"
   ]
  },
  {
   "cell_type": "markdown",
   "metadata": {},
   "source": [
    "**Gradient Boosting Regression :**        \n",
    "huber loss is included to makes sure the model is robust to outliers."
   ]
  },
  {
   "cell_type": "code",
   "execution_count": 237,
   "metadata": {
    "collapsed": true
   },
   "outputs": [],
   "source": [
    "GBoost = GradientBoostingRegressor(n_estimators=3000, learning_rate=0.05,\n",
    "                                   max_depth=4, max_features='sqrt',\n",
    "                                   min_samples_leaf=15, min_samples_split=10, \n",
    "                                   loss='huber', random_state =5)"
   ]
  },
  {
   "cell_type": "markdown",
   "metadata": {},
   "source": [
    "**XGBoost :**"
   ]
  },
  {
   "cell_type": "code",
   "execution_count": 239,
   "metadata": {
    "collapsed": true
   },
   "outputs": [],
   "source": [
    "model_xgb = xgb.XGBRegressor(colsample_bytree=0.4603, gamma=0.0468, \n",
    "                             learning_rate=0.05, max_depth=3, \n",
    "                             min_child_weight=1.7817, n_estimators=2200,\n",
    "                             reg_alpha=0.4640, reg_lambda=0.8571,\n",
    "                             subsample=0.5213, silent=1,\n",
    "                             random_state =7, nthread = -1)\n"
   ]
  },
  {
   "cell_type": "markdown",
   "metadata": {},
   "source": [
    "**LightGBM :**"
   ]
  },
  {
   "cell_type": "code",
   "execution_count": 240,
   "metadata": {
    "collapsed": true
   },
   "outputs": [],
   "source": [
    "model_lgb = lgb.LGBMRegressor(objective='regression',num_leaves=5,\n",
    "                              learning_rate=0.05, n_estimators=720,\n",
    "                              max_bin = 55, bagging_fraction = 0.8,\n",
    "                              bagging_freq = 5, feature_fraction = 0.2319,\n",
    "                              feature_fraction_seed=9, bagging_seed=9,\n",
    "                              min_data_in_leaf =6, min_sum_hessian_in_leaf = 11)\n"
   ]
  },
  {
   "cell_type": "markdown",
   "metadata": {},
   "source": [
    "### 6.4 Base models scores\n",
    "\n",
    "Here, I am going to evaluate these models performance on the data by evaluating the cross-validation rmsle error."
   ]
  },
  {
   "cell_type": "code",
   "execution_count": 242,
   "metadata": {},
   "outputs": [
    {
     "name": "stdout",
     "output_type": "stream",
     "text": [
      "\n",
      "Lasso score: 0.1090 (0.0071)\n",
      "\n"
     ]
    }
   ],
   "source": [
    "score = rmsle_cv(lasso)\n",
    "print(\"\\nLasso score: {:.4f} ({:.4f})\\n\".format(score.mean(), score.std()))"
   ]
  },
  {
   "cell_type": "code",
   "execution_count": 243,
   "metadata": {},
   "outputs": [
    {
     "name": "stdout",
     "output_type": "stream",
     "text": [
      "ElasticNet score: 0.1090 (0.0072)\n",
      "\n"
     ]
    }
   ],
   "source": [
    "score = rmsle_cv(ENet)\n",
    "print(\"ElasticNet score: {:.4f} ({:.4f})\\n\".format(score.mean(), score.std()))"
   ]
  },
  {
   "cell_type": "code",
   "execution_count": 244,
   "metadata": {},
   "outputs": [
    {
     "name": "stdout",
     "output_type": "stream",
     "text": [
      "Kernel Ridge score: 0.2314 (0.0237)\n",
      "\n"
     ]
    }
   ],
   "source": [
    "score = rmsle_cv(KRR)\n",
    "print(\"Kernel Ridge score: {:.4f} ({:.4f})\\n\".format(score.mean(), score.std()))"
   ]
  },
  {
   "cell_type": "code",
   "execution_count": 245,
   "metadata": {},
   "outputs": [
    {
     "name": "stdout",
     "output_type": "stream",
     "text": [
      "Gradient Boosting score: 0.1164 (0.0079)\n",
      "\n"
     ]
    }
   ],
   "source": [
    "score = rmsle_cv(GBoost)\n",
    "print(\"Gradient Boosting score: {:.4f} ({:.4f})\\n\".format(score.mean(), score.std()))"
   ]
  },
  {
   "cell_type": "code",
   "execution_count": 246,
   "metadata": {},
   "outputs": [
    {
     "name": "stdout",
     "output_type": "stream",
     "text": [
      "Xgboost score: 0.1165 (0.0063)\n",
      "\n"
     ]
    }
   ],
   "source": [
    "score = rmsle_cv(model_xgb)\n",
    "print(\"Xgboost score: {:.4f} ({:.4f})\\n\".format(score.mean(), score.std()))"
   ]
  },
  {
   "cell_type": "code",
   "execution_count": 247,
   "metadata": {},
   "outputs": [
    {
     "name": "stdout",
     "output_type": "stream",
     "text": [
      "LGBM score: 0.1157 (0.0064)\n",
      "\n"
     ]
    }
   ],
   "source": [
    "score = rmsle_cv(model_lgb)\n",
    "print(\"LGBM score: {:.4f} ({:.4f})\\n\" .format(score.mean(), score.std()))"
   ]
  },
  {
   "cell_type": "markdown",
   "metadata": {},
   "source": [
    "### 6.5 Stacking models\n",
    "\n",
    "**Averaging base models**\n",
    "\n",
    "I build a new class to extend scikit-learn with my model and also to laverage encapsulation and code reuse (inheritance)\n",
    "\n",
    "**Averaged base models class**"
   ]
  },
  {
   "cell_type": "code",
   "execution_count": 248,
   "metadata": {
    "collapsed": true
   },
   "outputs": [],
   "source": [
    "class AveragingModels(BaseEstimator, RegressorMixin, TransformerMixin):\n",
    "    def __init__(self, models):\n",
    "        self.models = models\n",
    "        \n",
    "    # we define clones of the original models to fit the data in\n",
    "    def fit(self, X, y):\n",
    "        self.models_ = [clone(x) for x in self.models]\n",
    "        \n",
    "        # Train cloned base models\n",
    "        for model in self.models_:\n",
    "            model.fit(X, y)\n",
    "\n",
    "        return self\n",
    "    \n",
    "    #Now we do the predictions for cloned models and average them\n",
    "    def predict(self, X):\n",
    "        predictions = np.column_stack([\n",
    "            model.predict(X) for model in self.models_\n",
    "        ])\n",
    "        return np.mean(predictions, axis=1)  "
   ]
  },
  {
   "cell_type": "code",
   "execution_count": 249,
   "metadata": {},
   "outputs": [
    {
     "name": "stdout",
     "output_type": "stream",
     "text": [
      " Averaged base models score: 0.1187 (0.0092)\n",
      "\n"
     ]
    }
   ],
   "source": [
    "averaged_models = AveragingModels(models = (ENet, GBoost, KRR, lasso))\n",
    "\n",
    "score = rmsle_cv(averaged_models)\n",
    "print(\" Averaged base models score: {:.4f} ({:.4f})\\n\".format(score.mean(), score.std()))"
   ]
  },
  {
   "cell_type": "markdown",
   "metadata": {},
   "source": [
    "### 6.6 Ensembling StackedRegressor, XGBoost and LightGBM"
   ]
  },
  {
   "cell_type": "markdown",
   "metadata": {
    "collapsed": true
   },
   "source": [
    "We first define a rmsle evaluation function"
   ]
  },
  {
   "cell_type": "code",
   "execution_count": 210,
   "metadata": {
    "collapsed": true
   },
   "outputs": [],
   "source": [
    "def rmsle(y, y_pred):\n",
    "    return np.sqrt(mean_squared_error(y, y_pred))"
   ]
  },
  {
   "cell_type": "markdown",
   "metadata": {},
   "source": [
    "**Final Training and Prediction**\n",
    "\n",
    "Average stack:"
   ]
  },
  {
   "cell_type": "code",
   "execution_count": 277,
   "metadata": {},
   "outputs": [
    {
     "name": "stdout",
     "output_type": "stream",
     "text": [
      "0.06455684732154623\n"
     ]
    }
   ],
   "source": [
    "averaged_models.fit(train.values, y_train)\n",
    "average_train_pred = averaged_models.predict(train.values)\n",
    "average_pred = np.expm1(averaged_models.predict(test.values))\n",
    "print(rmsle(y_train, average_train_pred))"
   ]
  },
  {
   "cell_type": "markdown",
   "metadata": {},
   "source": [
    "XGBoost:"
   ]
  },
  {
   "cell_type": "code",
   "execution_count": 279,
   "metadata": {},
   "outputs": [
    {
     "name": "stdout",
     "output_type": "stream",
     "text": [
      "0.07797434161319242\n"
     ]
    }
   ],
   "source": [
    "model_xgb.fit(train.values, y_train)\n",
    "xgb_train_pred = model_xgb.predict(train.values)\n",
    "xgb_pred = np.expm1(model_xgb.predict(test.values))\n",
    "print(rmsle(y_train, xgb_train_pred))"
   ]
  },
  {
   "cell_type": "markdown",
   "metadata": {},
   "source": [
    "LightGBM:"
   ]
  },
  {
   "cell_type": "code",
   "execution_count": 280,
   "metadata": {},
   "outputs": [
    {
     "name": "stdout",
     "output_type": "stream",
     "text": [
      "0.07299935293566757\n"
     ]
    }
   ],
   "source": [
    "model_lgb.fit(train.values, y_train)\n",
    "lgb_train_pred = model_lgb.predict(train.values)\n",
    "lgb_pred = np.expm1(model_lgb.predict(test.values))\n",
    "print(rmsle(y_train, lgb_train_pred))"
   ]
  },
  {
   "cell_type": "code",
   "execution_count": 298,
   "metadata": {},
   "outputs": [
    {
     "name": "stdout",
     "output_type": "stream",
     "text": [
      "RMSLE score on train data:\n",
      "0.07320722532293027\n"
     ]
    }
   ],
   "source": [
    "'''RMSE on the entire Train data when averaging'''\n",
    "\n",
    "print('RMSLE score on train data:')\n",
    "print(rmsle(y_train,average_train_pred*0.40 +\n",
    "               xgb_train_pred*0.3 + lgb_train_pred*0.3 ))"
   ]
  },
  {
   "cell_type": "code",
   "execution_count": 292,
   "metadata": {},
   "outputs": [],
   "source": [
    "ensemble = average_pred*0.4 + xgb_pred*0.3 + lgb_pred*0.3"
   ]
  },
  {
   "cell_type": "code",
   "execution_count": 293,
   "metadata": {},
   "outputs": [],
   "source": [
    "sub = pd.DataFrame()\n",
    "sub['Id'] = test_Id_index\n",
    "sub['SalePrice'] = ensemble\n",
    "sub.to_csv('submission.csv',index=False)"
   ]
  }
 ],
 "metadata": {
  "kernelspec": {
   "display_name": "Python 3",
   "language": "python",
   "name": "python3"
  },
  "language_info": {
   "codemirror_mode": {
    "name": "ipython",
    "version": 3
   },
   "file_extension": ".py",
   "mimetype": "text/x-python",
   "name": "python",
   "nbconvert_exporter": "python",
   "pygments_lexer": "ipython3",
   "version": "3.6.5"
  },
  "widgets": {
   "application/vnd.jupyter.widget-state+json": {
    "state": {},
    "version_major": 1,
    "version_minor": 0
   }
  }
 },
 "nbformat": 4,
 "nbformat_minor": 1
}
